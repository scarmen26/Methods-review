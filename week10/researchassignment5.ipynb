{
 "cells": [
  {
   "cell_type": "markdown",
   "metadata": {},
   "source": [
    "# Research Assignment 5 \n",
    "\n",
    "\n",
    "[Carmen Salazar]\n",
    "\n",
    "[working title of the project] \n",
    "\n",
    "[04/01/2020]"
   ]
  },
  {
   "cell_type": "code",
   "execution_count": 3,
   "metadata": {},
   "outputs": [],
   "source": [
    "*cd \"/Users/karminsalazar/Desktop/Masters Thesis\"\n",
    "\n",
    "*set more off\n",
    "\n",
    "*capture log close\n",
    "\n",
    "*log using research_assignment5log20200405.log"
   ]
  },
  {
   "cell_type": "code",
   "execution_count": 27,
   "metadata": {},
   "outputs": [
    {
     "name": "stdout",
     "output_type": "stream",
     "text": [
      "\n",
      "Contains data from ipumsblack50.dta\n",
      "  obs:        27,319                          \n",
      " vars:            30                          18 Mar 2020 14:57\n",
      "---------------------------------------------------------------------------------------------------------------------------------------------------------------------------------------------------------------------------------------------------------------\n",
      "              storage   display    value\n",
      "variable name   type    format     label      variable label\n",
      "---------------------------------------------------------------------------------------------------------------------------------------------------------------------------------------------------------------------------------------------------------------\n",
      "year            int     %8.0g      YEAR       census year\n",
      "statefip        byte    %8.0g      STATEFIP   state (fips code)\n",
      "countyfip       int     %8.0g                 county (fips code)\n",
      "city            int     %8.0g      CITY       city\n",
      "puma            long    %12.0g                public use microdata area\n",
      "cpuma0010       int     %8.0g                 consistent puma, 2000-2010\n",
      "sex             byte    %8.0g      SEX        sex\n",
      "age             byte    %8.0g      AGE        age\n",
      "race            byte    %8.0g      RACE       race [general version]\n",
      "bpl             int     %8.0g      BPL        birthplace [general version]\n",
      "educ            byte    %8.0g      EDUC       educational attainment [general version]\n",
      "empstat         byte    %8.0g      EMPSTAT    employment status [general version]\n",
      "incwage         long    %12.0g                wage and salary income\n",
      "migrate1        byte    %8.0g      MIGRATE1   migration status, 1 year [general version]\n",
      "migpuma1        long    %12.0g                puma of residence 1 year ago\n",
      "movedin         byte    %8.0g                 when occupant moved into residence\n",
      "in_white        float   %9.0g                 \n",
      "black           float   %9.0g                 \n",
      "meaneduc        float   %9.0g                 \n",
      "female          byte    %9.0g                 RECODE of sex (sex)\n",
      "percent_female  float   %9.0g                 \n",
      "all             float   %9.0g                 \n",
      "sumall2         float   %9.0g                 \n",
      "p_all           float   %9.0g                 \n",
      "sumin_white2    float   %9.0g                 \n",
      "p_in_white      float   %9.0g                 \n",
      "sumblack2       float   %9.0g                 \n",
      "p_black         float   %9.0g                 \n",
      "unemployed      float   %9.0g                 \n",
      "employed        float   %9.0g                 \n",
      "---------------------------------------------------------------------------------------------------------------------------------------------------------------------------------------------------------------------------------------------------------------\n",
      "Sorted by: puma\n",
      "     Note: Dataset has changed since last saved.\n"
     ]
    }
   ],
   "source": [
    "*use ipumsblack50, clear\n",
    "describe"
   ]
  },
  {
   "cell_type": "code",
   "execution_count": 10,
   "metadata": {},
   "outputs": [
    {
     "name": "stdout",
     "output_type": "stream",
     "text": [
      "\n",
      " employment status |\n",
      " [general version] |      Freq.     Percent        Cum.\n",
      "-------------------+-----------------------------------\n",
      "               n/a |      4,877       17.85       17.85\n",
      "          employed |     11,808       43.22       61.07\n",
      "        unemployed |      1,258        4.60       65.68\n",
      "not in labor force |      9,376       34.32      100.00\n",
      "-------------------+-----------------------------------\n",
      "             Total |     27,319      100.00\n"
     ]
    }
   ],
   "source": [
    "tab empstat"
   ]
  },
  {
   "cell_type": "markdown",
   "metadata": {},
   "source": [
    "### 1. Develop hypotheses that approach a nominal variable in your dataset as a dependent variable (DV). [1 pt]\n",
    "\n",
    "* If your nominal variable has more than two categorical variables, such as political party affiliation categories of -- Democrat, Democratic Socialist, Green, Independent, or Republican -- develop hypotheses that treat being or not being in at least one of the categories as a dichotomous binomial dependent variable (DV).\n",
    "\n",
    "* Even if you are not interested in any categorical outcomes for your research project, still develop an hypothesis for at least one nominal variable in your data as a dependent variable. Thinking about potential influences on that variable could help you see if there are intervening relationships or omitted variable biases in your primary outcome of interest.\n",
    "\n",
    "Do the following when you write your hypothesis:\n",
    "\n",
    "    A. Write a separate hypothesis for each dependent variable (DV) you want to analyze.\n",
    "    \n",
    "My dependent nominal variable of interest is (employment status), more specifically whether one is or is not employed. I hypothesize that being or not employed will be influenced by the years of education obtained by the respondent, where respondents who are employed have obtained a higher number of educational years than respondents who are not employed. \n",
    "    \n",
    "    B. For each dependent variable (DV) state the predicted direction of association between your dependent variable DV and independent variables (IVs) in your model. You can predict no relationship if you do not expect a relationship.\n",
    "    \n",
    "I predict a positive direction of association between my dependent variable (employment status) and independent variable (years of education) in my model. This means that as the respondents years of education increases, the employment status of the respondent as employed will increase. I believe there appears to be a relationship between both variables.\n",
    " \n",
    "    C. Write a couple sentences about the theoretical reasons (prior knowledge / research) for each of your predictions\n",
    "    \n",
    "From prior knowledge and research, I know that there is a connection between wage achievement in the labor market and education levels. Edcuation is important to our society because of its immediate positive impacts on wages and re-entry into the labor market. Though being unemployed can have negative impacts on wages, these effects can be mitigated with higher levels of education. When attempting to re-enter the labor market, having a higher eduction presents an opportunity to better wages when entering a new position but also allows a person to most likely find a job faster than someone who does not have many years of education. "
   ]
  },
  {
   "cell_type": "code",
   "execution_count": 20,
   "metadata": {},
   "outputs": [],
   "source": [
    "gen unemployed= empstat==0 \n",
    "gen employed= empstat==1\n",
    "\n",
    "*Created new dummy vraibles where employed that is equal when employment status is equal to 1, otherwise set to 0\n"
   ]
  },
  {
   "cell_type": "markdown",
   "metadata": {},
   "source": [
    "### 2. Test your hypotheses [3 pts]\n",
    "\n",
    "    A. Create a frequency table for your dependent variable (DV).\n",
    "\n",
    "    B. Estimate an OLS model regressing your dichotomous dependent variable (DV) on your hypothesized independent variables (IVs) and store the results. to see how it compares to when you run an MLE model\n",
    "    \n",
    "    C. Estimate an MLE logistic model regressing your dichotomous dependent variable (DV) on your hypothesized independent variables (IVs) and store the results.\n",
    "    \n",
    "    D. Use esttab to output the coefficients for your OLS and MLE logistic models with html formatting within your Jupyter Notebook.\n",
    "    \n",
    "    E. Use esttab to reoutput your coefficients as odd ratios."
   ]
  },
  {
   "cell_type": "code",
   "execution_count": 25,
   "metadata": {},
   "outputs": [
    {
     "name": "stdout",
     "output_type": "stream",
     "text": [
      "\n",
      "   employed |      Freq.     Percent        Cum.\n",
      "------------+-----------------------------------\n",
      "          0 |     15,511       56.78       56.78\n",
      "          1 |     11,808       43.22      100.00\n",
      "------------+-----------------------------------\n",
      "      Total |     27,319      100.00\n"
     ]
    }
   ],
   "source": [
    "tab employed"
   ]
  },
  {
   "cell_type": "code",
   "execution_count": 26,
   "metadata": {},
   "outputs": [
    {
     "name": "stdout",
     "output_type": "stream",
     "text": [
      "\n",
      "OR = p / (1-p) = .76118352\n",
      "\n",
      "OR = (fy=1 / fy=0) = .7612662\n"
     ]
    }
   ],
   "source": [
    "display \"OR = p / (1-p) = \" .4322 / (1-.4322)\n",
    "display \"OR = (fy=1 / fy=0) = \" 11808 / 15511"
   ]
  },
  {
   "cell_type": "code",
   "execution_count": 30,
   "metadata": {},
   "outputs": [
    {
     "name": "stdout",
     "output_type": "stream",
     "text": [
      "\n",
      "\n",
      "\n",
      "      Source |       SS           df       MS      Number of obs   =    27,319\n",
      "-------------+----------------------------------   F(1, 27317)     =   6794.73\n",
      "       Model |  1335.42652         1  1335.42652   Prob > F        =    0.0000\n",
      "    Residual |  5368.84113    27,317  .196538461   R-squared       =    0.1992\n",
      "-------------+----------------------------------   Adj R-squared   =    0.1992\n",
      "       Total |  6704.26765    27,318  .245415757   Root MSE        =    .44333\n",
      "\n",
      "------------------------------------------------------------------------------\n",
      "    employed |      Coef.   Std. Err.      t    P>|t|     [95% Conf. Interval]\n",
      "-------------+----------------------------------------------------------------\n",
      "        educ |   .0708601   .0008596    82.43   0.000     .0691752     .072545\n",
      "       _cons |   .0187979   .0056877     3.31   0.001     .0076498     .029946\n",
      "------------------------------------------------------------------------------\n",
      "(est1 stored)\n"
     ]
    }
   ],
   "source": [
    "est clear \n",
    "eststo: reg employed educ"
   ]
  },
  {
   "cell_type": "code",
   "execution_count": 31,
   "metadata": {},
   "outputs": [],
   "source": [
    "%set graph_format svg"
   ]
  },
  {
   "cell_type": "code",
   "execution_count": 32,
   "metadata": {},
   "outputs": [
    {
     "data": {
      "application/pdf": "[encoded data removed]",
      "image/svg+xml": [
       "<?xml version=\"1.0\" encoding=\"UTF-8\" standalone=\"no\"?>\n",
       "<!-- This is a Stata 16.0 generated SVG file (http://www.stata.com) -->\n",
       "\n",
       "<svg version=\"1.1\" width=\"600px\" height=\"300px\" viewBox=\"0 0 8640 4320\" xmlns=\"http://www.w3.org/2000/svg\" xmlns:xlink=\"http://www.w3.org/1999/xlink\">\n",
       "\t<desc>Stata Graph - Graph</desc>\n",
       "\t<rect x=\"0\" y=\"0\" width=\"8640\" height=\"4320\" style=\"fill:#EAF2F3;stroke:none\"/>\n",
       "\t<rect x=\"0.00\" y=\"0.00\" width=\"8640.00\" height=\"4320.00\" style=\"fill:#EAF2F3\"/>\n",
       "\t<rect x=\"4.32\" y=\"4.32\" width=\"8631.36\" height=\"4311.36\" style=\"fill:none;stroke:#EAF2F3;stroke-width:8.64\"/>\n",
       "\t<rect x=\"95.04\" y=\"326.97\" width=\"4224.96\" height=\"3897.99\" style=\"fill:#EAF2F3\"/>\n",
       "\t<rect x=\"99.14\" y=\"331.07\" width=\"4216.75\" height=\"3889.78\" style=\"fill:none;stroke:#EAF2F3;stroke-width:8.21\"/>\n",
       "\t<rect x=\"798.93\" y=\"861.84\" width=\"3377.43\" height=\"2806.11\" style=\"fill:#FFFFFF\"/>\n",
       "\t<rect x=\"803.03\" y=\"865.94\" width=\"3369.22\" height=\"2797.90\" style=\"fill:none;stroke:#FFFFFF;stroke-width:8.21\"/>\n",
       "\t<line x1=\"798.93\" y1=\"3315.33\" x2=\"4176.36\" y2=\"3315.33\" style=\"stroke:#EAF2F3;stroke-width:12.31\"/>\n",
       "\t<line x1=\"798.93\" y1=\"3052.62\" x2=\"4176.36\" y2=\"3052.62\" style=\"stroke:#EAF2F3;stroke-width:12.31\"/>\n",
       "\t<line x1=\"798.93\" y1=\"2790.18\" x2=\"4176.36\" y2=\"2790.18\" style=\"stroke:#EAF2F3;stroke-width:12.31\"/>\n",
       "\t<line x1=\"798.93\" y1=\"2527.47\" x2=\"4176.36\" y2=\"2527.47\" style=\"stroke:#EAF2F3;stroke-width:12.31\"/>\n",
       "\t<line x1=\"798.93\" y1=\"2265.03\" x2=\"4176.36\" y2=\"2265.03\" style=\"stroke:#EAF2F3;stroke-width:12.31\"/>\n",
       "\t<line x1=\"798.93\" y1=\"2002.32\" x2=\"4176.36\" y2=\"2002.32\" style=\"stroke:#EAF2F3;stroke-width:12.31\"/>\n",
       "\t<line x1=\"798.93\" y1=\"1739.88\" x2=\"4176.36\" y2=\"1739.88\" style=\"stroke:#EAF2F3;stroke-width:12.31\"/>\n",
       "\t<line x1=\"798.93\" y1=\"1477.17\" x2=\"4176.36\" y2=\"1477.17\" style=\"stroke:#EAF2F3;stroke-width:12.31\"/>\n",
       "\t<line x1=\"798.93\" y1=\"1214.73\" x2=\"4176.36\" y2=\"1214.73\" style=\"stroke:#EAF2F3;stroke-width:12.31\"/>\n",
       "\t<line x1=\"798.93\" y1=\"952.02\" x2=\"4176.36\" y2=\"952.02\" style=\"stroke:#EAF2F3;stroke-width:12.31\"/>\n",
       "\t<line x1=\"798.93\" y1=\"2443.50\" x2=\"4176.36\" y2=\"2443.50\" style=\"stroke:#EAF2F3;stroke-width:12.31\"/>\n",
       "\t<line x1=\"798.93\" y1=\"2443.50\" x2=\"4176.36\" y2=\"2443.50\" style=\"stroke:#FFD200;stroke-width:32.83\"/>\n",
       "\t<path d=\" M920.97 952.29 L953.10 952.29 L984.96 952.29 L1016.82 952.29 L1048.95 1477.44 L1080.81 1389.69 L1112.94 1327.32 L1144.80 1280.34 L1176.66 1535.76 L1208.79 1739.88 L1240.65 1668.33 L1272.78 1827.36 L1304.64 1962.09 L1336.50 1890.00 L1368.63 2002.59 L1400.49 1936.71 L1432.62 1878.93 L1464.48 1973.43 L1496.34 2057.67 L1528.47 2133.81 L1560.33 2202.66 L1592.46 2265.03 L1624.32 2208.06 L1656.18 2155.68 L1688.31 2212.65 L1720.17 2265.03 L1752.30 2216.43 L1784.16 2265.03 L1816.02 2310.39 L1848.15 2352.51 L1880.01 2392.20 L1912.14 2347.11 L1944.00 2384.37 L1975.86 2419.47 L2007.99 2452.68 L2039.85 2410.83 L2071.98 2371.41 L2103.84 2403.27 L2135.70 2433.51 L2167.83 2461.86 L2199.69 2489.13 L2231.82 2452.68 L2263.68 2478.87 L2295.54 2503.71 L2327.67 2527.74 L2359.53 2550.42 L2391.66 2572.29 L2423.52 2538.54 L2455.38 2559.87 L2487.51 2527.74 L2519.37 2548.26 L2551.50 2517.48 L2583.36 2537.46 L2615.49 2556.90 L2647.35 2527.74 L2679.21 2499.39 L2711.34 2518.29 L2743.20 2491.29 L2775.33 2465.37 L2807.19 2484.00 L2839.05 2501.82 L2871.18 2519.10 L2903.04 2535.84 L2935.17 2511.27 L2967.03 2527.74 L2998.89 2503.71 L3031.02 2480.49 L3062.88 2458.08 L3095.01 2474.28 L3126.87 2452.68 L3158.73 2468.34 L3190.86 2484.00 L3222.72 2462.94 L3254.85 2442.42 L3286.71 2422.71 L3318.57 2437.83 L3350.70 2418.39 L3382.56 2399.76 L3414.69 2381.40 L3446.55 2363.58 L3478.41 2346.03 L3510.54 2329.02 L3542.40 2312.55 L3574.53 2296.35 L3606.39 2280.42 L3638.25 2265.03 L3670.38 2249.91 L3702.24 2235.33 L3734.37 2250.18 L3766.23 2265.03 L3798.09 2250.72 L3830.22 2265.03 L3862.08 2279.07 L3894.21 2293.11 L3926.07 2278.80 L3957.93 2292.30 L3990.06 2305.80 L4021.92 2318.76 L4054.05 2331.45 L4085.91 2317.68\" stroke-linejoin=\"round\" style=\"fill:none;stroke:#1A476F;stroke-width:12.31\"/>\n",
       "\t<line x1=\"798.93\" y1=\"3667.95\" x2=\"798.93\" y2=\"861.84\" style=\"stroke:#000000;stroke-width:8.21\"/>\n",
       "\t<line x1=\"798.93\" y1=\"3577.77\" x2=\"741.96\" y2=\"3577.77\" style=\"stroke:#000000;stroke-width:8.21\"/>\n",
       "\t<text x=\"713.34\" y=\"3627.73\" style=\"font-family:'Helvetica';font-size:142.56px;fill:#000000\" text-anchor=\"end\">0</text>\n",
       "\t<line x1=\"798.93\" y1=\"3315.33\" x2=\"741.96\" y2=\"3315.33\" style=\"stroke:#000000;stroke-width:8.21\"/>\n",
       "\t<text x=\"713.34\" y=\"3365.29\" style=\"font-family:'Helvetica';font-size:142.56px;fill:#000000\" text-anchor=\"end\">.1</text>\n",
       "\t<line x1=\"798.93\" y1=\"3052.62\" x2=\"741.96\" y2=\"3052.62\" style=\"stroke:#000000;stroke-width:8.21\"/>\n",
       "\t<text x=\"713.34\" y=\"3102.58\" style=\"font-family:'Helvetica';font-size:142.56px;fill:#000000\" text-anchor=\"end\">.2</text>\n",
       "\t<line x1=\"798.93\" y1=\"2790.18\" x2=\"741.96\" y2=\"2790.18\" style=\"stroke:#000000;stroke-width:8.21\"/>\n",
       "\t<text x=\"713.34\" y=\"2840.14\" style=\"font-family:'Helvetica';font-size:142.56px;fill:#000000\" text-anchor=\"end\">.3</text>\n",
       "\t<line x1=\"798.93\" y1=\"2527.47\" x2=\"741.96\" y2=\"2527.47\" style=\"stroke:#000000;stroke-width:8.21\"/>\n",
       "\t<text x=\"713.34\" y=\"2577.43\" style=\"font-family:'Helvetica';font-size:142.56px;fill:#000000\" text-anchor=\"end\">.4</text>\n",
       "\t<line x1=\"798.93\" y1=\"2265.03\" x2=\"741.96\" y2=\"2265.03\" style=\"stroke:#000000;stroke-width:8.21\"/>\n",
       "\t<text x=\"713.34\" y=\"2314.99\" style=\"font-family:'Helvetica';font-size:142.56px;fill:#000000\" text-anchor=\"end\">.5</text>\n",
       "\t<line x1=\"798.93\" y1=\"2002.32\" x2=\"741.96\" y2=\"2002.32\" style=\"stroke:#000000;stroke-width:8.21\"/>\n",
       "\t<text x=\"713.34\" y=\"2052.28\" style=\"font-family:'Helvetica';font-size:142.56px;fill:#000000\" text-anchor=\"end\">.6</text>\n",
       "\t<line x1=\"798.93\" y1=\"1739.88\" x2=\"741.96\" y2=\"1739.88\" style=\"stroke:#000000;stroke-width:8.21\"/>\n",
       "\t<text x=\"713.34\" y=\"1789.84\" style=\"font-family:'Helvetica';font-size:142.56px;fill:#000000\" text-anchor=\"end\">.7</text>\n",
       "\t<line x1=\"798.93\" y1=\"1477.17\" x2=\"741.96\" y2=\"1477.17\" style=\"stroke:#000000;stroke-width:8.21\"/>\n",
       "\t<text x=\"713.34\" y=\"1527.13\" style=\"font-family:'Helvetica';font-size:142.56px;fill:#000000\" text-anchor=\"end\">.8</text>\n",
       "\t<line x1=\"798.93\" y1=\"1214.73\" x2=\"741.96\" y2=\"1214.73\" style=\"stroke:#000000;stroke-width:8.21\"/>\n",
       "\t<text x=\"713.34\" y=\"1264.69\" style=\"font-family:'Helvetica';font-size:142.56px;fill:#000000\" text-anchor=\"end\">.9</text>\n",
       "\t<line x1=\"798.93\" y1=\"952.02\" x2=\"741.96\" y2=\"952.02\" style=\"stroke:#000000;stroke-width:8.21\"/>\n",
       "\t<text x=\"713.34\" y=\"1001.98\" style=\"font-family:'Helvetica';font-size:142.56px;fill:#000000\" text-anchor=\"end\">1</text>\n",
       "\t<line x1=\"798.93\" y1=\"2443.50\" x2=\"741.96\" y2=\"2443.50\" style=\"stroke:#000000;stroke-width:8.21\"/>\n",
       "\t<text x=\"713.34\" y=\"2493.46\" style=\"font-family:'Helvetica';font-size:142.56px;fill:#000000\" text-anchor=\"end\">.432</text>\n",
       "\t<text x=\"366.69\" y=\"2265.03\" style=\"font-family:'Helvetica';font-size:142.56px;fill:#000000\" transform=\"rotate(-90 366.69,2265.03)\" text-anchor=\"middle\">Average # of heads</text>\n",
       "\t<line x1=\"798.93\" y1=\"3667.95\" x2=\"4176.36\" y2=\"3667.95\" style=\"stroke:#000000;stroke-width:8.21\"/>\n",
       "\t<line x1=\"889.11\" y1=\"3667.95\" x2=\"889.11\" y2=\"3725.19\" style=\"stroke:#000000;stroke-width:8.21\"/>\n",
       "\t<text x=\"889.11\" y=\"3853.20\" style=\"font-family:'Helvetica';font-size:142.56px;fill:#000000\" text-anchor=\"middle\">0</text>\n",
       "\t<line x1=\"1528.47\" y1=\"3667.95\" x2=\"1528.47\" y2=\"3725.19\" style=\"stroke:#000000;stroke-width:8.21\"/>\n",
       "\t<text x=\"1528.47\" y=\"3853.20\" style=\"font-family:'Helvetica';font-size:142.56px;fill:#000000\" text-anchor=\"middle\">20</text>\n",
       "\t<line x1=\"2167.83\" y1=\"3667.95\" x2=\"2167.83\" y2=\"3725.19\" style=\"stroke:#000000;stroke-width:8.21\"/>\n",
       "\t<text x=\"2167.83\" y=\"3853.20\" style=\"font-family:'Helvetica';font-size:142.56px;fill:#000000\" text-anchor=\"middle\">40</text>\n",
       "\t<line x1=\"2807.19\" y1=\"3667.95\" x2=\"2807.19\" y2=\"3725.19\" style=\"stroke:#000000;stroke-width:8.21\"/>\n",
       "\t<text x=\"2807.19\" y=\"3853.20\" style=\"font-family:'Helvetica';font-size:142.56px;fill:#000000\" text-anchor=\"middle\">60</text>\n",
       "\t<line x1=\"3446.82\" y1=\"3667.95\" x2=\"3446.82\" y2=\"3725.19\" style=\"stroke:#000000;stroke-width:8.21\"/>\n",
       "\t<text x=\"3446.82\" y=\"3853.20\" style=\"font-family:'Helvetica';font-size:142.56px;fill:#000000\" text-anchor=\"middle\">80</text>\n",
       "\t<line x1=\"4086.18\" y1=\"3667.95\" x2=\"4086.18\" y2=\"3725.19\" style=\"stroke:#000000;stroke-width:8.21\"/>\n",
       "\t<text x=\"4086.18\" y=\"3853.20\" style=\"font-family:'Helvetica';font-size:142.56px;fill:#000000\" text-anchor=\"middle\">100</text>\n",
       "\t<text x=\"2487.51\" y=\"4009.80\" style=\"font-family:'Helvetica';font-size:142.56px;fill:#000000\" text-anchor=\"middle\">Number of Trials</text>\n",
       "\t<text x=\"2487.51\" y=\"614.68\" style=\"font-family:'Helvetica';font-size:170.91px;fill:#1E2D53\" text-anchor=\"middle\">Average number of heads</text>\n",
       "\t<text x=\"2487.51\" y=\"785.86\" style=\"font-family:'Helvetica';font-size:170.91px;fill:#1E2D53\" text-anchor=\"middle\">from trial 1 to 100 of 1 coin with p(head)=.432</text>\n",
       "\t<rect x=\"4320.00\" y=\"326.97\" width=\"4224.96\" height=\"3897.99\" style=\"fill:#EAF2F3\"/>\n",
       "\t<rect x=\"4324.10\" y=\"331.07\" width=\"4216.75\" height=\"3889.78\" style=\"fill:none;stroke:#EAF2F3;stroke-width:8.21\"/>\n",
       "\t<rect x=\"4901.85\" y=\"861.84\" width=\"3499.47\" height=\"2806.11\" style=\"fill:#FFFFFF\"/>\n",
       "\t<rect x=\"4905.95\" y=\"865.94\" width=\"3491.26\" height=\"2797.90\" style=\"fill:none;stroke:#FFFFFF;stroke-width:8.21\"/>\n",
       "\t<line x1=\"4901.85\" y1=\"3577.77\" x2=\"8401.32\" y2=\"3577.77\" style=\"stroke:#EAF2F3;stroke-width:12.31\"/>\n",
       "\t<line x1=\"4901.85\" y1=\"3315.33\" x2=\"8401.32\" y2=\"3315.33\" style=\"stroke:#EAF2F3;stroke-width:12.31\"/>\n",
       "\t<line x1=\"4901.85\" y1=\"3052.62\" x2=\"8401.32\" y2=\"3052.62\" style=\"stroke:#EAF2F3;stroke-width:12.31\"/>\n",
       "\t<line x1=\"4901.85\" y1=\"2790.18\" x2=\"8401.32\" y2=\"2790.18\" style=\"stroke:#EAF2F3;stroke-width:12.31\"/>\n",
       "\t<line x1=\"4901.85\" y1=\"2527.47\" x2=\"8401.32\" y2=\"2527.47\" style=\"stroke:#EAF2F3;stroke-width:12.31\"/>\n",
       "\t<line x1=\"4901.85\" y1=\"2002.32\" x2=\"8401.32\" y2=\"2002.32\" style=\"stroke:#EAF2F3;stroke-width:12.31\"/>\n",
       "\t<line x1=\"4901.85\" y1=\"1739.88\" x2=\"8401.32\" y2=\"1739.88\" style=\"stroke:#EAF2F3;stroke-width:12.31\"/>\n",
       "\t<line x1=\"4901.85\" y1=\"1477.17\" x2=\"8401.32\" y2=\"1477.17\" style=\"stroke:#EAF2F3;stroke-width:12.31\"/>\n",
       "\t<line x1=\"4901.85\" y1=\"1214.73\" x2=\"8401.32\" y2=\"1214.73\" style=\"stroke:#EAF2F3;stroke-width:12.31\"/>\n",
       "\t<line x1=\"4901.85\" y1=\"2265.03\" x2=\"8401.32\" y2=\"2265.03\" style=\"stroke:#EAF2F3;stroke-width:12.31\"/>\n",
       "\t<line x1=\"4901.85\" y1=\"2265.03\" x2=\"8401.32\" y2=\"2265.03\" style=\"stroke:#FFD200;stroke-width:32.83\"/>\n",
       "\t<path d=\" M5025.24 3578.04 L5058.45 3578.04 L5091.66 3578.04 L5124.87 3578.04 L5158.08 3578.04 L5191.29 3578.04 L5224.50 3578.04 L5257.71 3249.72 L5290.92 3286.17 L5323.86 3315.33 L5357.07 3339.09 L5390.28 3359.07 L5423.49 3376.08 L5456.70 3202.74 L5489.91 3227.85 L5523.12 3249.72 L5556.33 3268.89 L5589.54 3140.37 L5622.75 3025.08 L5655.96 2921.40 L5689.17 2827.71 L5722.38 2742.39 L5755.32 2664.63 L5788.53 2702.70 L5821.74 2632.77 L5854.95 2567.97 L5888.16 2605.50 L5921.37 2546.37 L5954.58 2491.29 L5987.79 2527.74 L6021.00 2476.71 L6054.21 2429.19 L6087.42 2384.37 L6120.63 2419.47 L6153.57 2452.68 L6186.78 2410.83 L6219.99 2371.41 L6253.20 2334.15 L6286.41 2366.01 L6319.62 2396.25 L6352.83 2425.14 L6386.04 2390.04 L6419.25 2356.56 L6452.46 2384.37 L6485.67 2410.83 L6518.88 2436.21 L6551.82 2460.51 L6585.03 2484.00 L6618.24 2452.68 L6651.45 2475.09 L6684.66 2496.69 L6717.87 2466.99 L6751.08 2438.37 L6784.29 2410.83 L6817.50 2432.16 L6850.71 2405.70 L6883.92 2426.22 L6917.13 2400.84 L6950.07 2420.82 L6983.28 2439.99 L7016.49 2415.69 L7049.70 2434.59 L7082.91 2410.83 L7116.12 2429.19 L7149.33 2446.74 L7182.54 2464.02 L7215.75 2480.49 L7248.96 2458.08 L7282.17 2436.21 L7315.38 2415.15 L7348.32 2394.63 L7381.53 2410.83 L7414.74 2427.03 L7447.95 2407.05 L7481.16 2387.61 L7514.37 2403.27 L7547.58 2384.37 L7580.79 2399.76 L7614.00 2381.40 L7647.21 2396.25 L7680.42 2410.83 L7713.63 2425.14 L7746.57 2407.32 L7779.78 2390.04 L7812.99 2404.08 L7846.20 2387.07 L7879.41 2400.84 L7912.62 2384.37 L7945.83 2368.44 L7979.04 2352.51 L8012.25 2337.12 L8045.46 2322.27 L8078.67 2335.77 L8111.88 2348.73 L8145.09 2361.69 L8178.03 2374.38 L8211.24 2386.80 L8244.45 2398.95 L8277.66 2384.37 L8310.87 2396.25\" stroke-linejoin=\"round\" style=\"fill:none;stroke:#1A476F;stroke-width:12.31\"/>\n",
       "\t<line x1=\"4901.85\" y1=\"3667.95\" x2=\"4901.85\" y2=\"861.84\" style=\"stroke:#000000;stroke-width:8.21\"/>\n",
       "\t<line x1=\"4901.85\" y1=\"3577.77\" x2=\"4844.88\" y2=\"3577.77\" style=\"stroke:#000000;stroke-width:8.21\"/>\n",
       "\t<text x=\"4816.53\" y=\"3627.73\" style=\"font-family:'Helvetica';font-size:142.56px;fill:#000000\" text-anchor=\"end\">0</text>\n",
       "\t<line x1=\"4901.85\" y1=\"3315.33\" x2=\"4844.88\" y2=\"3315.33\" style=\"stroke:#000000;stroke-width:8.21\"/>\n",
       "\t<text x=\"4816.53\" y=\"3365.29\" style=\"font-family:'Helvetica';font-size:142.56px;fill:#000000\" text-anchor=\"end\">.1</text>\n",
       "\t<line x1=\"4901.85\" y1=\"3052.62\" x2=\"4844.88\" y2=\"3052.62\" style=\"stroke:#000000;stroke-width:8.21\"/>\n",
       "\t<text x=\"4816.53\" y=\"3102.58\" style=\"font-family:'Helvetica';font-size:142.56px;fill:#000000\" text-anchor=\"end\">.2</text>\n",
       "\t<line x1=\"4901.85\" y1=\"2790.18\" x2=\"4844.88\" y2=\"2790.18\" style=\"stroke:#000000;stroke-width:8.21\"/>\n",
       "\t<text x=\"4816.53\" y=\"2840.14\" style=\"font-family:'Helvetica';font-size:142.56px;fill:#000000\" text-anchor=\"end\">.3</text>\n",
       "\t<line x1=\"4901.85\" y1=\"2527.47\" x2=\"4844.88\" y2=\"2527.47\" style=\"stroke:#000000;stroke-width:8.21\"/>\n",
       "\t<text x=\"4816.53\" y=\"2577.43\" style=\"font-family:'Helvetica';font-size:142.56px;fill:#000000\" text-anchor=\"end\">.4</text>\n",
       "\t<line x1=\"4901.85\" y1=\"2002.32\" x2=\"4844.88\" y2=\"2002.32\" style=\"stroke:#000000;stroke-width:8.21\"/>\n",
       "\t<text x=\"4816.53\" y=\"2052.28\" style=\"font-family:'Helvetica';font-size:142.56px;fill:#000000\" text-anchor=\"end\">.6</text>\n",
       "\t<line x1=\"4901.85\" y1=\"1739.88\" x2=\"4844.88\" y2=\"1739.88\" style=\"stroke:#000000;stroke-width:8.21\"/>\n",
       "\t<text x=\"4816.53\" y=\"1789.84\" style=\"font-family:'Helvetica';font-size:142.56px;fill:#000000\" text-anchor=\"end\">.7</text>\n",
       "\t<line x1=\"4901.85\" y1=\"1477.17\" x2=\"4844.88\" y2=\"1477.17\" style=\"stroke:#000000;stroke-width:8.21\"/>\n",
       "\t<text x=\"4816.53\" y=\"1527.13\" style=\"font-family:'Helvetica';font-size:142.56px;fill:#000000\" text-anchor=\"end\">.8</text>\n",
       "\t<line x1=\"4901.85\" y1=\"1214.73\" x2=\"4844.88\" y2=\"1214.73\" style=\"stroke:#000000;stroke-width:8.21\"/>\n",
       "\t<text x=\"4816.53\" y=\"1264.69\" style=\"font-family:'Helvetica';font-size:142.56px;fill:#000000\" text-anchor=\"end\">.9</text>\n",
       "\t<line x1=\"4901.85\" y1=\"952.02\" x2=\"4844.88\" y2=\"952.02\" style=\"stroke:#000000;stroke-width:8.21\"/>\n",
       "\t<text x=\"4816.53\" y=\"1001.98\" style=\"font-family:'Helvetica';font-size:142.56px;fill:#000000\" text-anchor=\"end\">1</text>\n",
       "\t<line x1=\"4901.85\" y1=\"2265.03\" x2=\"4844.88\" y2=\"2265.03\" style=\"stroke:#000000;stroke-width:8.21\"/>\n",
       "\t<text x=\"4816.53\" y=\"2314.99\" style=\"font-family:'Helvetica';font-size:142.56px;fill:#000000\" text-anchor=\"end\">.5</text>\n",
       "\t<text x=\"4591.65\" y=\"2265.03\" style=\"font-family:'Helvetica';font-size:142.56px;fill:#000000\" transform=\"rotate(-90 4591.65,2265.03)\" text-anchor=\"middle\">Average # of heads</text>\n",
       "\t<line x1=\"4901.85\" y1=\"3667.95\" x2=\"8401.32\" y2=\"3667.95\" style=\"stroke:#000000;stroke-width:8.21\"/>\n",
       "\t<line x1=\"4992.30\" y1=\"3667.95\" x2=\"4992.30\" y2=\"3725.19\" style=\"stroke:#000000;stroke-width:8.21\"/>\n",
       "\t<text x=\"4992.30\" y=\"3853.20\" style=\"font-family:'Helvetica';font-size:142.56px;fill:#000000\" text-anchor=\"middle\">0</text>\n",
       "\t<line x1=\"5655.96\" y1=\"3667.95\" x2=\"5655.96\" y2=\"3725.19\" style=\"stroke:#000000;stroke-width:8.21\"/>\n",
       "\t<text x=\"5655.96\" y=\"3853.20\" style=\"font-family:'Helvetica';font-size:142.56px;fill:#000000\" text-anchor=\"middle\">20</text>\n",
       "\t<line x1=\"6319.89\" y1=\"3667.95\" x2=\"6319.89\" y2=\"3725.19\" style=\"stroke:#000000;stroke-width:8.21\"/>\n",
       "\t<text x=\"6319.89\" y=\"3853.20\" style=\"font-family:'Helvetica';font-size:142.56px;fill:#000000\" text-anchor=\"middle\">40</text>\n",
       "\t<line x1=\"6983.55\" y1=\"3667.95\" x2=\"6983.55\" y2=\"3725.19\" style=\"stroke:#000000;stroke-width:8.21\"/>\n",
       "\t<text x=\"6983.55\" y=\"3853.20\" style=\"font-family:'Helvetica';font-size:142.56px;fill:#000000\" text-anchor=\"middle\">60</text>\n",
       "\t<line x1=\"7647.21\" y1=\"3667.95\" x2=\"7647.21\" y2=\"3725.19\" style=\"stroke:#000000;stroke-width:8.21\"/>\n",
       "\t<text x=\"7647.21\" y=\"3853.20\" style=\"font-family:'Helvetica';font-size:142.56px;fill:#000000\" text-anchor=\"middle\">80</text>\n",
       "\t<line x1=\"8311.14\" y1=\"3667.95\" x2=\"8311.14\" y2=\"3725.19\" style=\"stroke:#000000;stroke-width:8.21\"/>\n",
       "\t<text x=\"8311.14\" y=\"3853.20\" style=\"font-family:'Helvetica';font-size:142.56px;fill:#000000\" text-anchor=\"middle\">100</text>\n",
       "\t<text x=\"6651.72\" y=\"4009.80\" style=\"font-family:'Helvetica';font-size:142.56px;fill:#000000\" text-anchor=\"middle\">Number of Trials</text>\n",
       "\t<text x=\"6651.72\" y=\"614.68\" style=\"font-family:'Helvetica';font-size:170.91px;fill:#1E2D53\" text-anchor=\"middle\">Average number of heads</text>\n",
       "\t<text x=\"6651.72\" y=\"785.86\" style=\"font-family:'Helvetica';font-size:170.91px;fill:#1E2D53\" text-anchor=\"middle\">from trial 1 to 100 of 1 coin with p(head)=.5</text>\n",
       "\t<text x=\"4320.00\" y=\"246.89\" style=\"font-family:'Helvetica';font-size:180.09px;fill:#1E2D53\" text-anchor=\"middle\">Frequency of employment status across 100 coin flips for being employed vs. years of education</text>\n",
       "</svg>\n"
      ],
      "text/html": [
       "                <iframe frameborder=\"0\" scrolling=\"no\" height=\"300\" width=\"600\"                srcdoc=\"<html><body>&lt;?xml version=&quot;1.0&quot; encoding=&quot;UTF-8&quot; standalone=&quot;no&quot;?&gt;\n",
       "&lt;!-- This is a Stata 16.0 generated SVG file (http://www.stata.com) --&gt;\n",
       "\n",
       "&lt;svg version=&quot;1.1&quot; width=&quot;600px&quot; height=&quot;300px&quot; viewBox=&quot;0 0 8640 4320&quot; xmlns=&quot;http://www.w3.org/2000/svg&quot; xmlns:xlink=&quot;http://www.w3.org/1999/xlink&quot;&gt;\n",
       "\t&lt;desc&gt;Stata Graph - Graph&lt;/desc&gt;\n",
       "\t&lt;rect x=&quot;0&quot; y=&quot;0&quot; width=&quot;8640&quot; height=&quot;4320&quot; style=&quot;fill:#EAF2F3;stroke:none&quot;/&gt;\n",
       "\t&lt;rect x=&quot;0.00&quot; y=&quot;0.00&quot; width=&quot;8640.00&quot; height=&quot;4320.00&quot; style=&quot;fill:#EAF2F3&quot;/&gt;\n",
       "\t&lt;rect x=&quot;4.32&quot; y=&quot;4.32&quot; width=&quot;8631.36&quot; height=&quot;4311.36&quot; style=&quot;fill:none;stroke:#EAF2F3;stroke-width:8.64&quot;/&gt;\n",
       "\t&lt;rect x=&quot;95.04&quot; y=&quot;326.97&quot; width=&quot;4224.96&quot; height=&quot;3897.99&quot; style=&quot;fill:#EAF2F3&quot;/&gt;\n",
       "\t&lt;rect x=&quot;99.14&quot; y=&quot;331.07&quot; width=&quot;4216.75&quot; height=&quot;3889.78&quot; style=&quot;fill:none;stroke:#EAF2F3;stroke-width:8.21&quot;/&gt;\n",
       "\t&lt;rect x=&quot;798.93&quot; y=&quot;861.84&quot; width=&quot;3377.43&quot; height=&quot;2806.11&quot; style=&quot;fill:#FFFFFF&quot;/&gt;\n",
       "\t&lt;rect x=&quot;803.03&quot; y=&quot;865.94&quot; width=&quot;3369.22&quot; height=&quot;2797.90&quot; style=&quot;fill:none;stroke:#FFFFFF;stroke-width:8.21&quot;/&gt;\n",
       "\t&lt;line x1=&quot;798.93&quot; y1=&quot;3315.33&quot; x2=&quot;4176.36&quot; y2=&quot;3315.33&quot; style=&quot;stroke:#EAF2F3;stroke-width:12.31&quot;/&gt;\n",
       "\t&lt;line x1=&quot;798.93&quot; y1=&quot;3052.62&quot; x2=&quot;4176.36&quot; y2=&quot;3052.62&quot; style=&quot;stroke:#EAF2F3;stroke-width:12.31&quot;/&gt;\n",
       "\t&lt;line x1=&quot;798.93&quot; y1=&quot;2790.18&quot; x2=&quot;4176.36&quot; y2=&quot;2790.18&quot; style=&quot;stroke:#EAF2F3;stroke-width:12.31&quot;/&gt;\n",
       "\t&lt;line x1=&quot;798.93&quot; y1=&quot;2527.47&quot; x2=&quot;4176.36&quot; y2=&quot;2527.47&quot; style=&quot;stroke:#EAF2F3;stroke-width:12.31&quot;/&gt;\n",
       "\t&lt;line x1=&quot;798.93&quot; y1=&quot;2265.03&quot; x2=&quot;4176.36&quot; y2=&quot;2265.03&quot; style=&quot;stroke:#EAF2F3;stroke-width:12.31&quot;/&gt;\n",
       "\t&lt;line x1=&quot;798.93&quot; y1=&quot;2002.32&quot; x2=&quot;4176.36&quot; y2=&quot;2002.32&quot; style=&quot;stroke:#EAF2F3;stroke-width:12.31&quot;/&gt;\n",
       "\t&lt;line x1=&quot;798.93&quot; y1=&quot;1739.88&quot; x2=&quot;4176.36&quot; y2=&quot;1739.88&quot; style=&quot;stroke:#EAF2F3;stroke-width:12.31&quot;/&gt;\n",
       "\t&lt;line x1=&quot;798.93&quot; y1=&quot;1477.17&quot; x2=&quot;4176.36&quot; y2=&quot;1477.17&quot; style=&quot;stroke:#EAF2F3;stroke-width:12.31&quot;/&gt;\n",
       "\t&lt;line x1=&quot;798.93&quot; y1=&quot;1214.73&quot; x2=&quot;4176.36&quot; y2=&quot;1214.73&quot; style=&quot;stroke:#EAF2F3;stroke-width:12.31&quot;/&gt;\n",
       "\t&lt;line x1=&quot;798.93&quot; y1=&quot;952.02&quot; x2=&quot;4176.36&quot; y2=&quot;952.02&quot; style=&quot;stroke:#EAF2F3;stroke-width:12.31&quot;/&gt;\n",
       "\t&lt;line x1=&quot;798.93&quot; y1=&quot;2443.50&quot; x2=&quot;4176.36&quot; y2=&quot;2443.50&quot; style=&quot;stroke:#EAF2F3;stroke-width:12.31&quot;/&gt;\n",
       "\t&lt;line x1=&quot;798.93&quot; y1=&quot;2443.50&quot; x2=&quot;4176.36&quot; y2=&quot;2443.50&quot; style=&quot;stroke:#FFD200;stroke-width:32.83&quot;/&gt;\n",
       "\t&lt;path d=&quot; M920.97 952.29 L953.10 952.29 L984.96 952.29 L1016.82 952.29 L1048.95 1477.44 L1080.81 1389.69 L1112.94 1327.32 L1144.80 1280.34 L1176.66 1535.76 L1208.79 1739.88 L1240.65 1668.33 L1272.78 1827.36 L1304.64 1962.09 L1336.50 1890.00 L1368.63 2002.59 L1400.49 1936.71 L1432.62 1878.93 L1464.48 1973.43 L1496.34 2057.67 L1528.47 2133.81 L1560.33 2202.66 L1592.46 2265.03 L1624.32 2208.06 L1656.18 2155.68 L1688.31 2212.65 L1720.17 2265.03 L1752.30 2216.43 L1784.16 2265.03 L1816.02 2310.39 L1848.15 2352.51 L1880.01 2392.20 L1912.14 2347.11 L1944.00 2384.37 L1975.86 2419.47 L2007.99 2452.68 L2039.85 2410.83 L2071.98 2371.41 L2103.84 2403.27 L2135.70 2433.51 L2167.83 2461.86 L2199.69 2489.13 L2231.82 2452.68 L2263.68 2478.87 L2295.54 2503.71 L2327.67 2527.74 L2359.53 2550.42 L2391.66 2572.29 L2423.52 2538.54 L2455.38 2559.87 L2487.51 2527.74 L2519.37 2548.26 L2551.50 2517.48 L2583.36 2537.46 L2615.49 2556.90 L2647.35 2527.74 L2679.21 2499.39 L2711.34 2518.29 L2743.20 2491.29 L2775.33 2465.37 L2807.19 2484.00 L2839.05 2501.82 L2871.18 2519.10 L2903.04 2535.84 L2935.17 2511.27 L2967.03 2527.74 L2998.89 2503.71 L3031.02 2480.49 L3062.88 2458.08 L3095.01 2474.28 L3126.87 2452.68 L3158.73 2468.34 L3190.86 2484.00 L3222.72 2462.94 L3254.85 2442.42 L3286.71 2422.71 L3318.57 2437.83 L3350.70 2418.39 L3382.56 2399.76 L3414.69 2381.40 L3446.55 2363.58 L3478.41 2346.03 L3510.54 2329.02 L3542.40 2312.55 L3574.53 2296.35 L3606.39 2280.42 L3638.25 2265.03 L3670.38 2249.91 L3702.24 2235.33 L3734.37 2250.18 L3766.23 2265.03 L3798.09 2250.72 L3830.22 2265.03 L3862.08 2279.07 L3894.21 2293.11 L3926.07 2278.80 L3957.93 2292.30 L3990.06 2305.80 L4021.92 2318.76 L4054.05 2331.45 L4085.91 2317.68&quot; stroke-linejoin=&quot;round&quot; style=&quot;fill:none;stroke:#1A476F;stroke-width:12.31&quot;/&gt;\n",
       "\t&lt;line x1=&quot;798.93&quot; y1=&quot;3667.95&quot; x2=&quot;798.93&quot; y2=&quot;861.84&quot; style=&quot;stroke:#000000;stroke-width:8.21&quot;/&gt;\n",
       "\t&lt;line x1=&quot;798.93&quot; y1=&quot;3577.77&quot; x2=&quot;741.96&quot; y2=&quot;3577.77&quot; style=&quot;stroke:#000000;stroke-width:8.21&quot;/&gt;\n",
       "\t&lt;text x=&quot;713.34&quot; y=&quot;3627.73&quot; style=&quot;font-family:&#x27;Helvetica&#x27;;font-size:142.56px;fill:#000000&quot; text-anchor=&quot;end&quot;&gt;0&lt;/text&gt;\n",
       "\t&lt;line x1=&quot;798.93&quot; y1=&quot;3315.33&quot; x2=&quot;741.96&quot; y2=&quot;3315.33&quot; style=&quot;stroke:#000000;stroke-width:8.21&quot;/&gt;\n",
       "\t&lt;text x=&quot;713.34&quot; y=&quot;3365.29&quot; style=&quot;font-family:&#x27;Helvetica&#x27;;font-size:142.56px;fill:#000000&quot; text-anchor=&quot;end&quot;&gt;.1&lt;/text&gt;\n",
       "\t&lt;line x1=&quot;798.93&quot; y1=&quot;3052.62&quot; x2=&quot;741.96&quot; y2=&quot;3052.62&quot; style=&quot;stroke:#000000;stroke-width:8.21&quot;/&gt;\n",
       "\t&lt;text x=&quot;713.34&quot; y=&quot;3102.58&quot; style=&quot;font-family:&#x27;Helvetica&#x27;;font-size:142.56px;fill:#000000&quot; text-anchor=&quot;end&quot;&gt;.2&lt;/text&gt;\n",
       "\t&lt;line x1=&quot;798.93&quot; y1=&quot;2790.18&quot; x2=&quot;741.96&quot; y2=&quot;2790.18&quot; style=&quot;stroke:#000000;stroke-width:8.21&quot;/&gt;\n",
       "\t&lt;text x=&quot;713.34&quot; y=&quot;2840.14&quot; style=&quot;font-family:&#x27;Helvetica&#x27;;font-size:142.56px;fill:#000000&quot; text-anchor=&quot;end&quot;&gt;.3&lt;/text&gt;\n",
       "\t&lt;line x1=&quot;798.93&quot; y1=&quot;2527.47&quot; x2=&quot;741.96&quot; y2=&quot;2527.47&quot; style=&quot;stroke:#000000;stroke-width:8.21&quot;/&gt;\n",
       "\t&lt;text x=&quot;713.34&quot; y=&quot;2577.43&quot; style=&quot;font-family:&#x27;Helvetica&#x27;;font-size:142.56px;fill:#000000&quot; text-anchor=&quot;end&quot;&gt;.4&lt;/text&gt;\n",
       "\t&lt;line x1=&quot;798.93&quot; y1=&quot;2265.03&quot; x2=&quot;741.96&quot; y2=&quot;2265.03&quot; style=&quot;stroke:#000000;stroke-width:8.21&quot;/&gt;\n",
       "\t&lt;text x=&quot;713.34&quot; y=&quot;2314.99&quot; style=&quot;font-family:&#x27;Helvetica&#x27;;font-size:142.56px;fill:#000000&quot; text-anchor=&quot;end&quot;&gt;.5&lt;/text&gt;\n",
       "\t&lt;line x1=&quot;798.93&quot; y1=&quot;2002.32&quot; x2=&quot;741.96&quot; y2=&quot;2002.32&quot; style=&quot;stroke:#000000;stroke-width:8.21&quot;/&gt;\n",
       "\t&lt;text x=&quot;713.34&quot; y=&quot;2052.28&quot; style=&quot;font-family:&#x27;Helvetica&#x27;;font-size:142.56px;fill:#000000&quot; text-anchor=&quot;end&quot;&gt;.6&lt;/text&gt;\n",
       "\t&lt;line x1=&quot;798.93&quot; y1=&quot;1739.88&quot; x2=&quot;741.96&quot; y2=&quot;1739.88&quot; style=&quot;stroke:#000000;stroke-width:8.21&quot;/&gt;\n",
       "\t&lt;text x=&quot;713.34&quot; y=&quot;1789.84&quot; style=&quot;font-family:&#x27;Helvetica&#x27;;font-size:142.56px;fill:#000000&quot; text-anchor=&quot;end&quot;&gt;.7&lt;/text&gt;\n",
       "\t&lt;line x1=&quot;798.93&quot; y1=&quot;1477.17&quot; x2=&quot;741.96&quot; y2=&quot;1477.17&quot; style=&quot;stroke:#000000;stroke-width:8.21&quot;/&gt;\n",
       "\t&lt;text x=&quot;713.34&quot; y=&quot;1527.13&quot; style=&quot;font-family:&#x27;Helvetica&#x27;;font-size:142.56px;fill:#000000&quot; text-anchor=&quot;end&quot;&gt;.8&lt;/text&gt;\n",
       "\t&lt;line x1=&quot;798.93&quot; y1=&quot;1214.73&quot; x2=&quot;741.96&quot; y2=&quot;1214.73&quot; style=&quot;stroke:#000000;stroke-width:8.21&quot;/&gt;\n",
       "\t&lt;text x=&quot;713.34&quot; y=&quot;1264.69&quot; style=&quot;font-family:&#x27;Helvetica&#x27;;font-size:142.56px;fill:#000000&quot; text-anchor=&quot;end&quot;&gt;.9&lt;/text&gt;\n",
       "\t&lt;line x1=&quot;798.93&quot; y1=&quot;952.02&quot; x2=&quot;741.96&quot; y2=&quot;952.02&quot; style=&quot;stroke:#000000;stroke-width:8.21&quot;/&gt;\n",
       "\t&lt;text x=&quot;713.34&quot; y=&quot;1001.98&quot; style=&quot;font-family:&#x27;Helvetica&#x27;;font-size:142.56px;fill:#000000&quot; text-anchor=&quot;end&quot;&gt;1&lt;/text&gt;\n",
       "\t&lt;line x1=&quot;798.93&quot; y1=&quot;2443.50&quot; x2=&quot;741.96&quot; y2=&quot;2443.50&quot; style=&quot;stroke:#000000;stroke-width:8.21&quot;/&gt;\n",
       "\t&lt;text x=&quot;713.34&quot; y=&quot;2493.46&quot; style=&quot;font-family:&#x27;Helvetica&#x27;;font-size:142.56px;fill:#000000&quot; text-anchor=&quot;end&quot;&gt;.432&lt;/text&gt;\n",
       "\t&lt;text x=&quot;366.69&quot; y=&quot;2265.03&quot; style=&quot;font-family:&#x27;Helvetica&#x27;;font-size:142.56px;fill:#000000&quot; transform=&quot;rotate(-90 366.69,2265.03)&quot; text-anchor=&quot;middle&quot;&gt;Average # of heads&lt;/text&gt;\n",
       "\t&lt;line x1=&quot;798.93&quot; y1=&quot;3667.95&quot; x2=&quot;4176.36&quot; y2=&quot;3667.95&quot; style=&quot;stroke:#000000;stroke-width:8.21&quot;/&gt;\n",
       "\t&lt;line x1=&quot;889.11&quot; y1=&quot;3667.95&quot; x2=&quot;889.11&quot; y2=&quot;3725.19&quot; style=&quot;stroke:#000000;stroke-width:8.21&quot;/&gt;\n",
       "\t&lt;text x=&quot;889.11&quot; y=&quot;3853.20&quot; style=&quot;font-family:&#x27;Helvetica&#x27;;font-size:142.56px;fill:#000000&quot; text-anchor=&quot;middle&quot;&gt;0&lt;/text&gt;\n",
       "\t&lt;line x1=&quot;1528.47&quot; y1=&quot;3667.95&quot; x2=&quot;1528.47&quot; y2=&quot;3725.19&quot; style=&quot;stroke:#000000;stroke-width:8.21&quot;/&gt;\n",
       "\t&lt;text x=&quot;1528.47&quot; y=&quot;3853.20&quot; style=&quot;font-family:&#x27;Helvetica&#x27;;font-size:142.56px;fill:#000000&quot; text-anchor=&quot;middle&quot;&gt;20&lt;/text&gt;\n",
       "\t&lt;line x1=&quot;2167.83&quot; y1=&quot;3667.95&quot; x2=&quot;2167.83&quot; y2=&quot;3725.19&quot; style=&quot;stroke:#000000;stroke-width:8.21&quot;/&gt;\n",
       "\t&lt;text x=&quot;2167.83&quot; y=&quot;3853.20&quot; style=&quot;font-family:&#x27;Helvetica&#x27;;font-size:142.56px;fill:#000000&quot; text-anchor=&quot;middle&quot;&gt;40&lt;/text&gt;\n",
       "\t&lt;line x1=&quot;2807.19&quot; y1=&quot;3667.95&quot; x2=&quot;2807.19&quot; y2=&quot;3725.19&quot; style=&quot;stroke:#000000;stroke-width:8.21&quot;/&gt;\n",
       "\t&lt;text x=&quot;2807.19&quot; y=&quot;3853.20&quot; style=&quot;font-family:&#x27;Helvetica&#x27;;font-size:142.56px;fill:#000000&quot; text-anchor=&quot;middle&quot;&gt;60&lt;/text&gt;\n",
       "\t&lt;line x1=&quot;3446.82&quot; y1=&quot;3667.95&quot; x2=&quot;3446.82&quot; y2=&quot;3725.19&quot; style=&quot;stroke:#000000;stroke-width:8.21&quot;/&gt;\n",
       "\t&lt;text x=&quot;3446.82&quot; y=&quot;3853.20&quot; style=&quot;font-family:&#x27;Helvetica&#x27;;font-size:142.56px;fill:#000000&quot; text-anchor=&quot;middle&quot;&gt;80&lt;/text&gt;\n",
       "\t&lt;line x1=&quot;4086.18&quot; y1=&quot;3667.95&quot; x2=&quot;4086.18&quot; y2=&quot;3725.19&quot; style=&quot;stroke:#000000;stroke-width:8.21&quot;/&gt;\n",
       "\t&lt;text x=&quot;4086.18&quot; y=&quot;3853.20&quot; style=&quot;font-family:&#x27;Helvetica&#x27;;font-size:142.56px;fill:#000000&quot; text-anchor=&quot;middle&quot;&gt;100&lt;/text&gt;\n",
       "\t&lt;text x=&quot;2487.51&quot; y=&quot;4009.80&quot; style=&quot;font-family:&#x27;Helvetica&#x27;;font-size:142.56px;fill:#000000&quot; text-anchor=&quot;middle&quot;&gt;Number of Trials&lt;/text&gt;\n",
       "\t&lt;text x=&quot;2487.51&quot; y=&quot;614.68&quot; style=&quot;font-family:&#x27;Helvetica&#x27;;font-size:170.91px;fill:#1E2D53&quot; text-anchor=&quot;middle&quot;&gt;Average number of heads&lt;/text&gt;\n",
       "\t&lt;text x=&quot;2487.51&quot; y=&quot;785.86&quot; style=&quot;font-family:&#x27;Helvetica&#x27;;font-size:170.91px;fill:#1E2D53&quot; text-anchor=&quot;middle&quot;&gt;from trial 1 to 100 of 1 coin with p(head)=.432&lt;/text&gt;\n",
       "\t&lt;rect x=&quot;4320.00&quot; y=&quot;326.97&quot; width=&quot;4224.96&quot; height=&quot;3897.99&quot; style=&quot;fill:#EAF2F3&quot;/&gt;\n",
       "\t&lt;rect x=&quot;4324.10&quot; y=&quot;331.07&quot; width=&quot;4216.75&quot; height=&quot;3889.78&quot; style=&quot;fill:none;stroke:#EAF2F3;stroke-width:8.21&quot;/&gt;\n",
       "\t&lt;rect x=&quot;4901.85&quot; y=&quot;861.84&quot; width=&quot;3499.47&quot; height=&quot;2806.11&quot; style=&quot;fill:#FFFFFF&quot;/&gt;\n",
       "\t&lt;rect x=&quot;4905.95&quot; y=&quot;865.94&quot; width=&quot;3491.26&quot; height=&quot;2797.90&quot; style=&quot;fill:none;stroke:#FFFFFF;stroke-width:8.21&quot;/&gt;\n",
       "\t&lt;line x1=&quot;4901.85&quot; y1=&quot;3577.77&quot; x2=&quot;8401.32&quot; y2=&quot;3577.77&quot; style=&quot;stroke:#EAF2F3;stroke-width:12.31&quot;/&gt;\n",
       "\t&lt;line x1=&quot;4901.85&quot; y1=&quot;3315.33&quot; x2=&quot;8401.32&quot; y2=&quot;3315.33&quot; style=&quot;stroke:#EAF2F3;stroke-width:12.31&quot;/&gt;\n",
       "\t&lt;line x1=&quot;4901.85&quot; y1=&quot;3052.62&quot; x2=&quot;8401.32&quot; y2=&quot;3052.62&quot; style=&quot;stroke:#EAF2F3;stroke-width:12.31&quot;/&gt;\n",
       "\t&lt;line x1=&quot;4901.85&quot; y1=&quot;2790.18&quot; x2=&quot;8401.32&quot; y2=&quot;2790.18&quot; style=&quot;stroke:#EAF2F3;stroke-width:12.31&quot;/&gt;\n",
       "\t&lt;line x1=&quot;4901.85&quot; y1=&quot;2527.47&quot; x2=&quot;8401.32&quot; y2=&quot;2527.47&quot; style=&quot;stroke:#EAF2F3;stroke-width:12.31&quot;/&gt;\n",
       "\t&lt;line x1=&quot;4901.85&quot; y1=&quot;2002.32&quot; x2=&quot;8401.32&quot; y2=&quot;2002.32&quot; style=&quot;stroke:#EAF2F3;stroke-width:12.31&quot;/&gt;\n",
       "\t&lt;line x1=&quot;4901.85&quot; y1=&quot;1739.88&quot; x2=&quot;8401.32&quot; y2=&quot;1739.88&quot; style=&quot;stroke:#EAF2F3;stroke-width:12.31&quot;/&gt;\n",
       "\t&lt;line x1=&quot;4901.85&quot; y1=&quot;1477.17&quot; x2=&quot;8401.32&quot; y2=&quot;1477.17&quot; style=&quot;stroke:#EAF2F3;stroke-width:12.31&quot;/&gt;\n",
       "\t&lt;line x1=&quot;4901.85&quot; y1=&quot;1214.73&quot; x2=&quot;8401.32&quot; y2=&quot;1214.73&quot; style=&quot;stroke:#EAF2F3;stroke-width:12.31&quot;/&gt;\n",
       "\t&lt;line x1=&quot;4901.85&quot; y1=&quot;2265.03&quot; x2=&quot;8401.32&quot; y2=&quot;2265.03&quot; style=&quot;stroke:#EAF2F3;stroke-width:12.31&quot;/&gt;\n",
       "\t&lt;line x1=&quot;4901.85&quot; y1=&quot;2265.03&quot; x2=&quot;8401.32&quot; y2=&quot;2265.03&quot; style=&quot;stroke:#FFD200;stroke-width:32.83&quot;/&gt;\n",
       "\t&lt;path d=&quot; M5025.24 3578.04 L5058.45 3578.04 L5091.66 3578.04 L5124.87 3578.04 L5158.08 3578.04 L5191.29 3578.04 L5224.50 3578.04 L5257.71 3249.72 L5290.92 3286.17 L5323.86 3315.33 L5357.07 3339.09 L5390.28 3359.07 L5423.49 3376.08 L5456.70 3202.74 L5489.91 3227.85 L5523.12 3249.72 L5556.33 3268.89 L5589.54 3140.37 L5622.75 3025.08 L5655.96 2921.40 L5689.17 2827.71 L5722.38 2742.39 L5755.32 2664.63 L5788.53 2702.70 L5821.74 2632.77 L5854.95 2567.97 L5888.16 2605.50 L5921.37 2546.37 L5954.58 2491.29 L5987.79 2527.74 L6021.00 2476.71 L6054.21 2429.19 L6087.42 2384.37 L6120.63 2419.47 L6153.57 2452.68 L6186.78 2410.83 L6219.99 2371.41 L6253.20 2334.15 L6286.41 2366.01 L6319.62 2396.25 L6352.83 2425.14 L6386.04 2390.04 L6419.25 2356.56 L6452.46 2384.37 L6485.67 2410.83 L6518.88 2436.21 L6551.82 2460.51 L6585.03 2484.00 L6618.24 2452.68 L6651.45 2475.09 L6684.66 2496.69 L6717.87 2466.99 L6751.08 2438.37 L6784.29 2410.83 L6817.50 2432.16 L6850.71 2405.70 L6883.92 2426.22 L6917.13 2400.84 L6950.07 2420.82 L6983.28 2439.99 L7016.49 2415.69 L7049.70 2434.59 L7082.91 2410.83 L7116.12 2429.19 L7149.33 2446.74 L7182.54 2464.02 L7215.75 2480.49 L7248.96 2458.08 L7282.17 2436.21 L7315.38 2415.15 L7348.32 2394.63 L7381.53 2410.83 L7414.74 2427.03 L7447.95 2407.05 L7481.16 2387.61 L7514.37 2403.27 L7547.58 2384.37 L7580.79 2399.76 L7614.00 2381.40 L7647.21 2396.25 L7680.42 2410.83 L7713.63 2425.14 L7746.57 2407.32 L7779.78 2390.04 L7812.99 2404.08 L7846.20 2387.07 L7879.41 2400.84 L7912.62 2384.37 L7945.83 2368.44 L7979.04 2352.51 L8012.25 2337.12 L8045.46 2322.27 L8078.67 2335.77 L8111.88 2348.73 L8145.09 2361.69 L8178.03 2374.38 L8211.24 2386.80 L8244.45 2398.95 L8277.66 2384.37 L8310.87 2396.25&quot; stroke-linejoin=&quot;round&quot; style=&quot;fill:none;stroke:#1A476F;stroke-width:12.31&quot;/&gt;\n",
       "\t&lt;line x1=&quot;4901.85&quot; y1=&quot;3667.95&quot; x2=&quot;4901.85&quot; y2=&quot;861.84&quot; style=&quot;stroke:#000000;stroke-width:8.21&quot;/&gt;\n",
       "\t&lt;line x1=&quot;4901.85&quot; y1=&quot;3577.77&quot; x2=&quot;4844.88&quot; y2=&quot;3577.77&quot; style=&quot;stroke:#000000;stroke-width:8.21&quot;/&gt;\n",
       "\t&lt;text x=&quot;4816.53&quot; y=&quot;3627.73&quot; style=&quot;font-family:&#x27;Helvetica&#x27;;font-size:142.56px;fill:#000000&quot; text-anchor=&quot;end&quot;&gt;0&lt;/text&gt;\n",
       "\t&lt;line x1=&quot;4901.85&quot; y1=&quot;3315.33&quot; x2=&quot;4844.88&quot; y2=&quot;3315.33&quot; style=&quot;stroke:#000000;stroke-width:8.21&quot;/&gt;\n",
       "\t&lt;text x=&quot;4816.53&quot; y=&quot;3365.29&quot; style=&quot;font-family:&#x27;Helvetica&#x27;;font-size:142.56px;fill:#000000&quot; text-anchor=&quot;end&quot;&gt;.1&lt;/text&gt;\n",
       "\t&lt;line x1=&quot;4901.85&quot; y1=&quot;3052.62&quot; x2=&quot;4844.88&quot; y2=&quot;3052.62&quot; style=&quot;stroke:#000000;stroke-width:8.21&quot;/&gt;\n",
       "\t&lt;text x=&quot;4816.53&quot; y=&quot;3102.58&quot; style=&quot;font-family:&#x27;Helvetica&#x27;;font-size:142.56px;fill:#000000&quot; text-anchor=&quot;end&quot;&gt;.2&lt;/text&gt;\n",
       "\t&lt;line x1=&quot;4901.85&quot; y1=&quot;2790.18&quot; x2=&quot;4844.88&quot; y2=&quot;2790.18&quot; style=&quot;stroke:#000000;stroke-width:8.21&quot;/&gt;\n",
       "\t&lt;text x=&quot;4816.53&quot; y=&quot;2840.14&quot; style=&quot;font-family:&#x27;Helvetica&#x27;;font-size:142.56px;fill:#000000&quot; text-anchor=&quot;end&quot;&gt;.3&lt;/text&gt;\n",
       "\t&lt;line x1=&quot;4901.85&quot; y1=&quot;2527.47&quot; x2=&quot;4844.88&quot; y2=&quot;2527.47&quot; style=&quot;stroke:#000000;stroke-width:8.21&quot;/&gt;\n",
       "\t&lt;text x=&quot;4816.53&quot; y=&quot;2577.43&quot; style=&quot;font-family:&#x27;Helvetica&#x27;;font-size:142.56px;fill:#000000&quot; text-anchor=&quot;end&quot;&gt;.4&lt;/text&gt;\n",
       "\t&lt;line x1=&quot;4901.85&quot; y1=&quot;2002.32&quot; x2=&quot;4844.88&quot; y2=&quot;2002.32&quot; style=&quot;stroke:#000000;stroke-width:8.21&quot;/&gt;\n",
       "\t&lt;text x=&quot;4816.53&quot; y=&quot;2052.28&quot; style=&quot;font-family:&#x27;Helvetica&#x27;;font-size:142.56px;fill:#000000&quot; text-anchor=&quot;end&quot;&gt;.6&lt;/text&gt;\n",
       "\t&lt;line x1=&quot;4901.85&quot; y1=&quot;1739.88&quot; x2=&quot;4844.88&quot; y2=&quot;1739.88&quot; style=&quot;stroke:#000000;stroke-width:8.21&quot;/&gt;\n",
       "\t&lt;text x=&quot;4816.53&quot; y=&quot;1789.84&quot; style=&quot;font-family:&#x27;Helvetica&#x27;;font-size:142.56px;fill:#000000&quot; text-anchor=&quot;end&quot;&gt;.7&lt;/text&gt;\n",
       "\t&lt;line x1=&quot;4901.85&quot; y1=&quot;1477.17&quot; x2=&quot;4844.88&quot; y2=&quot;1477.17&quot; style=&quot;stroke:#000000;stroke-width:8.21&quot;/&gt;\n",
       "\t&lt;text x=&quot;4816.53&quot; y=&quot;1527.13&quot; style=&quot;font-family:&#x27;Helvetica&#x27;;font-size:142.56px;fill:#000000&quot; text-anchor=&quot;end&quot;&gt;.8&lt;/text&gt;\n",
       "\t&lt;line x1=&quot;4901.85&quot; y1=&quot;1214.73&quot; x2=&quot;4844.88&quot; y2=&quot;1214.73&quot; style=&quot;stroke:#000000;stroke-width:8.21&quot;/&gt;\n",
       "\t&lt;text x=&quot;4816.53&quot; y=&quot;1264.69&quot; style=&quot;font-family:&#x27;Helvetica&#x27;;font-size:142.56px;fill:#000000&quot; text-anchor=&quot;end&quot;&gt;.9&lt;/text&gt;\n",
       "\t&lt;line x1=&quot;4901.85&quot; y1=&quot;952.02&quot; x2=&quot;4844.88&quot; y2=&quot;952.02&quot; style=&quot;stroke:#000000;stroke-width:8.21&quot;/&gt;\n",
       "\t&lt;text x=&quot;4816.53&quot; y=&quot;1001.98&quot; style=&quot;font-family:&#x27;Helvetica&#x27;;font-size:142.56px;fill:#000000&quot; text-anchor=&quot;end&quot;&gt;1&lt;/text&gt;\n",
       "\t&lt;line x1=&quot;4901.85&quot; y1=&quot;2265.03&quot; x2=&quot;4844.88&quot; y2=&quot;2265.03&quot; style=&quot;stroke:#000000;stroke-width:8.21&quot;/&gt;\n",
       "\t&lt;text x=&quot;4816.53&quot; y=&quot;2314.99&quot; style=&quot;font-family:&#x27;Helvetica&#x27;;font-size:142.56px;fill:#000000&quot; text-anchor=&quot;end&quot;&gt;.5&lt;/text&gt;\n",
       "\t&lt;text x=&quot;4591.65&quot; y=&quot;2265.03&quot; style=&quot;font-family:&#x27;Helvetica&#x27;;font-size:142.56px;fill:#000000&quot; transform=&quot;rotate(-90 4591.65,2265.03)&quot; text-anchor=&quot;middle&quot;&gt;Average # of heads&lt;/text&gt;\n",
       "\t&lt;line x1=&quot;4901.85&quot; y1=&quot;3667.95&quot; x2=&quot;8401.32&quot; y2=&quot;3667.95&quot; style=&quot;stroke:#000000;stroke-width:8.21&quot;/&gt;\n",
       "\t&lt;line x1=&quot;4992.30&quot; y1=&quot;3667.95&quot; x2=&quot;4992.30&quot; y2=&quot;3725.19&quot; style=&quot;stroke:#000000;stroke-width:8.21&quot;/&gt;\n",
       "\t&lt;text x=&quot;4992.30&quot; y=&quot;3853.20&quot; style=&quot;font-family:&#x27;Helvetica&#x27;;font-size:142.56px;fill:#000000&quot; text-anchor=&quot;middle&quot;&gt;0&lt;/text&gt;\n",
       "\t&lt;line x1=&quot;5655.96&quot; y1=&quot;3667.95&quot; x2=&quot;5655.96&quot; y2=&quot;3725.19&quot; style=&quot;stroke:#000000;stroke-width:8.21&quot;/&gt;\n",
       "\t&lt;text x=&quot;5655.96&quot; y=&quot;3853.20&quot; style=&quot;font-family:&#x27;Helvetica&#x27;;font-size:142.56px;fill:#000000&quot; text-anchor=&quot;middle&quot;&gt;20&lt;/text&gt;\n",
       "\t&lt;line x1=&quot;6319.89&quot; y1=&quot;3667.95&quot; x2=&quot;6319.89&quot; y2=&quot;3725.19&quot; style=&quot;stroke:#000000;stroke-width:8.21&quot;/&gt;\n",
       "\t&lt;text x=&quot;6319.89&quot; y=&quot;3853.20&quot; style=&quot;font-family:&#x27;Helvetica&#x27;;font-size:142.56px;fill:#000000&quot; text-anchor=&quot;middle&quot;&gt;40&lt;/text&gt;\n",
       "\t&lt;line x1=&quot;6983.55&quot; y1=&quot;3667.95&quot; x2=&quot;6983.55&quot; y2=&quot;3725.19&quot; style=&quot;stroke:#000000;stroke-width:8.21&quot;/&gt;\n",
       "\t&lt;text x=&quot;6983.55&quot; y=&quot;3853.20&quot; style=&quot;font-family:&#x27;Helvetica&#x27;;font-size:142.56px;fill:#000000&quot; text-anchor=&quot;middle&quot;&gt;60&lt;/text&gt;\n",
       "\t&lt;line x1=&quot;7647.21&quot; y1=&quot;3667.95&quot; x2=&quot;7647.21&quot; y2=&quot;3725.19&quot; style=&quot;stroke:#000000;stroke-width:8.21&quot;/&gt;\n",
       "\t&lt;text x=&quot;7647.21&quot; y=&quot;3853.20&quot; style=&quot;font-family:&#x27;Helvetica&#x27;;font-size:142.56px;fill:#000000&quot; text-anchor=&quot;middle&quot;&gt;80&lt;/text&gt;\n",
       "\t&lt;line x1=&quot;8311.14&quot; y1=&quot;3667.95&quot; x2=&quot;8311.14&quot; y2=&quot;3725.19&quot; style=&quot;stroke:#000000;stroke-width:8.21&quot;/&gt;\n",
       "\t&lt;text x=&quot;8311.14&quot; y=&quot;3853.20&quot; style=&quot;font-family:&#x27;Helvetica&#x27;;font-size:142.56px;fill:#000000&quot; text-anchor=&quot;middle&quot;&gt;100&lt;/text&gt;\n",
       "\t&lt;text x=&quot;6651.72&quot; y=&quot;4009.80&quot; style=&quot;font-family:&#x27;Helvetica&#x27;;font-size:142.56px;fill:#000000&quot; text-anchor=&quot;middle&quot;&gt;Number of Trials&lt;/text&gt;\n",
       "\t&lt;text x=&quot;6651.72&quot; y=&quot;614.68&quot; style=&quot;font-family:&#x27;Helvetica&#x27;;font-size:170.91px;fill:#1E2D53&quot; text-anchor=&quot;middle&quot;&gt;Average number of heads&lt;/text&gt;\n",
       "\t&lt;text x=&quot;6651.72&quot; y=&quot;785.86&quot; style=&quot;font-family:&#x27;Helvetica&#x27;;font-size:170.91px;fill:#1E2D53&quot; text-anchor=&quot;middle&quot;&gt;from trial 1 to 100 of 1 coin with p(head)=.5&lt;/text&gt;\n",
       "\t&lt;text x=&quot;4320.00&quot; y=&quot;246.89&quot; style=&quot;font-family:&#x27;Helvetica&#x27;;font-size:180.09px;fill:#1E2D53&quot; text-anchor=&quot;middle&quot;&gt;Frequency of employment status across 100 coin flips for being employed vs. years of education&lt;/text&gt;\n",
       "&lt;/svg&gt;\n",
       "</body></html>\"></iframe>\n"
      ],
      "text/plain": [
       "This front-end cannot display the desired image type."
      ]
     },
     "metadata": {
      "image/svg+xml": {
       "height": 300,
       "width": 600
      },
      "text/html": {
       "height": 300,
       "width": 600
      }
     },
     "output_type": "display_data"
    }
   ],
   "source": [
    "quietly net install heads, from(https://stats.idre.ucla.edu/stat/stata/ado/teach)\n",
    "quietly heads, flips(100) prob(.432)\n",
    "quietly graph save employed, replace\n",
    "quietly heads, flips(100) prob(.50)\n",
    "quietly graph save educ, replace\n",
    "graph combine employed.gph educ.gph, ysize(6) xsize(12) iscale(.95) ///\n",
    "title(\"Frequency of employment status across 100 coin flips for being employed vs. years of education\", size(medlarge))"
   ]
  },
  {
   "cell_type": "code",
   "execution_count": 37,
   "metadata": {},
   "outputs": [],
   "source": [
    "est clear\n",
    "\n",
    "quietly eststo: regress employed educ\n",
    "quietly eststo: logit employed educ "
   ]
  },
  {
   "cell_type": "code",
   "execution_count": 67,
   "metadata": {},
   "outputs": [
    {
     "data": {
      "text/html": [
       "\n",
       "<table border=\"0\" width=\"*\">\n",
       "<caption>Output Coefficients</caption>\n",
       "<tr><td colspan=5><hr></td></tr>\n",
       "<tr><td>            </td><td>         (1)</td><td>   </td><td>         (2)</td><td>   </td></tr>\n",
       "<tr><td>            </td><td>         OLS</td><td>   </td><td>MLE / logistic</td><td>   </td></tr>\n",
       "<tr><td>            </td><td>        b/se</td><td>   </td><td>        b/se</td><td>   </td></tr>\n",
       "<tr><td colspan=5><hr></td></tr>\n",
       "<tr><td>main        </td><td>            </td><td>   </td><td>            </td><td>   </td></tr>\n",
       "<tr><td>educ        </td><td>        0.07</td><td>***</td><td>        0.36</td><td>***</td></tr>\n",
       "<tr><td>            </td><td>      (0.00)</td><td>   </td><td>      (0.01)</td><td>   </td></tr>\n",
       "<tr><td>_cons       </td><td>        0.02</td><td>***</td><td>       -2.47</td><td>***</td></tr>\n",
       "<tr><td>            </td><td>      (0.01)</td><td>   </td><td>      (0.04)</td><td>   </td></tr>\n",
       "<tr><td colspan=5><hr></td></tr>\n",
       "<tr><td><i>N</i>    </td><td>       27319</td><td>   </td><td>       27319</td><td>   </td></tr>\n",
       "<tr><td colspan=5><hr></td></tr>\n",
       "<tr><td colspan=5>\n",
       "^ p<.1, * p<.05, ** p<.01, *** p<.001\n",
       "</td></tr>\n",
       "</table>\n",
       "\n"
      ],
      "text/plain": [
       "This front-end or document format cannot display HTML"
      ]
     },
     "metadata": {},
     "output_type": "display_data"
    }
   ],
   "source": [
    "%html\n",
    "\n",
    "esttab, cells(b(star fmt(2)) se(fmt(2) par)) stardetach  ///\n",
    "legend starlevels(^ .1 * .05 ** .01 *** .001) html ///\n",
    "mlabels(\"OLS\" \"MLE / logistic\") title(\"Output Coefficients\") ///"
   ]
  },
  {
   "cell_type": "code",
   "execution_count": 74,
   "metadata": {},
   "outputs": [
    {
     "data": {
      "text/html": [
       "\n",
       "<table border=\"0\" width=\"*\">\n",
       "<caption>Odds Ratios</caption>\n",
       "<tr><td colspan=5><hr></td></tr>\n",
       "<tr><td>            </td><td>         (1)</td><td>   </td><td>         (2)</td><td>   </td></tr>\n",
       "<tr><td>            </td><td>         OLS</td><td>   </td><td>MLE / logistic</td><td>   </td></tr>\n",
       "<tr><td>            </td><td>        b/se</td><td>   </td><td>        b/se</td><td>   </td></tr>\n",
       "<tr><td colspan=5><hr></td></tr>\n",
       "<tr><td>main        </td><td>            </td><td>   </td><td>            </td><td>   </td></tr>\n",
       "<tr><td>educ        </td><td>        1.07</td><td>***</td><td>        1.43</td><td>***</td></tr>\n",
       "<tr><td>            </td><td>      (0.00)</td><td>   </td><td>      (0.01)</td><td>   </td></tr>\n",
       "<tr><td colspan=5><hr></td></tr>\n",
       "<tr><td><i>N</i>    </td><td>       27319</td><td>   </td><td>       27319</td><td>   </td></tr>\n",
       "<tr><td colspan=5><hr></td></tr>\n",
       "<tr><td colspan=5>\n",
       "Exponentiated coefficients\n",
       "<br />^ p<.1, * p<.05, ** p<.01, *** p<.001\n",
       "</td></tr>\n",
       "</table>\n",
       "\n"
      ],
      "text/plain": [
       "This front-end or document format cannot display HTML"
      ]
     },
     "metadata": {},
     "output_type": "display_data"
    }
   ],
   "source": [
    "%html\n",
    "\n",
    "esttab, cells(b(star fmt(2)) se(fmt(2) par)) stardetach  ///\n",
    "legend starlevels(^ .1 * .05 ** .01 *** .001) html ///\n",
    "mlabels(\"OLS\" \"MLE / logistic\") title(\"Odds Ratios\") ///\n",
    "keep(educ) eform"
   ]
  },
  {
   "cell_type": "markdown",
   "metadata": {},
   "source": [
    "### 3. Interpret your results [1 pt]\n",
    "\n",
    "Write a couple sentences answering each of the following questions:\n",
    "\n",
    "    A. How would you interpret the relationship between your dependent variable(s) (DVs) and independent variables (IVs) based on the odds ratios for you MLE logistic model?\n",
    "\n",
    "In this model, the odds ratios represent the constant effect of a predictor X (years of education), on the likelihood that one outcome will occur. We want a measure of the unique effect of each X (years of education) on Y (employment status). OLS and MLE yield quite different estimates for employment status (being or not being employed). Because the model  model above is predicting whether or not somebody is employed or not based on the years of education obtained, the coefficients above present a positive relationship between my dependent and independent variable where all else being equal, respondents with higher years of education were more likely to be employed than those with less years of education.\n",
    "\n",
    "\n",
    "    B. Do the overall estimates support or contradict your hypotheses? Why?\n",
    "\n",
    "The overall estimates support my hypothesis. Because the coefficients in my model are positive, they predict the \"likelihood\" of Y=1 rather than the value of Y for each observation. We can see the odds ratio of 1.43 present the probability that Y=1 is true. \n",
    "    \n",
    "    C. Is there anything suprising in your model estimates? Why?\n",
    "    \n",
    "What is surprising is the change in coefficients in both models. Though both are used to estimate the parameters of a linear regression model, OLS is a distance-minimizing approximation/estimation method, while MLE is a \"likelihood\" maximization method. \n",
    "\n",
    "    D. How do the OLS coefficients and their standard errors compare to the MLE estimates? Are the coefficients and standard errors larger or smaller?\n",
    "    \n",
    "OLS coefficients and their standard errors compare to the MLE estimates where the coefficients are different in both models. In the first model OLS model regression, the coefficient for OLS is 0.07 and for MLE/Logistic is 0.36. In the second MLE logistic model regression, the coefficient for OLS is 1.07 and for MLE/logistic is 1.43. The standard errors however, in both models stayed the same at (0.00) for OLS and (0.01) for MLE/logistic."
   ]
  },
  {
   "cell_type": "code",
   "execution_count": null,
   "metadata": {},
   "outputs": [],
   "source": []
  }
 ],
 "metadata": {
  "kernelspec": {
   "display_name": "Stata",
   "language": "stata",
   "name": "stata"
  },
  "language_info": {
   "codemirror_mode": "stata",
   "file_extension": ".do",
   "mimetype": "text/x-stata",
   "name": "stata",
   "version": "15.1"
  }
 },
 "nbformat": 4,
 "nbformat_minor": 4
}
