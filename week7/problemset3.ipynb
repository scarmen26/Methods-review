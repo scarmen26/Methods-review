{
 "cells": [
  {
   "cell_type": "markdown",
   "metadata": {},
   "source": [
    "# Problem set 3\n",
    "\n",
    "[Carmen Salazar]\n",
    "\n",
    "[GSS 2018 Dataset] \n",
    "\n",
    "[3/4/2020]"
   ]
  },
  {
   "cell_type": "code",
   "execution_count": 39,
   "metadata": {},
   "outputs": [],
   "source": [
    "*cd \"/Users/karminsalazar/Desktop/Gradstats/gradstats2/week7\"\n",
    "\n",
    "*set more off\n",
    "\n",
    "*capture log close\n",
    "\n",
    "*log using problem_set_3log20200308.log\n",
    "\n",
    "*use realrinc age sex race educ yearsjob paeduc PASEI10 using GSS2018w7.dta, clear\n",
    "\n",
    "*describe\n",
    "\n",
    "*summarize realrinc age sex race educ yearsjob paeduc PASEI10"
   ]
  },
  {
   "cell_type": "raw",
   "metadata": {},
   "source": [
    "## 1. Develop hypotheses about two non-linear relationships [1 pt] *a bivariate model is fine*\n",
    "\n",
    "You can use the GSS data, Student aid data, or your own data. Develop at least 2 hypotheses about non-linear relationships in your dataset of choice that do the following: could be rejecting the non-linear relationship\n",
    "\n",
    "    A. Use the form: The DV will change positive/negatively if the IV changes positively/negatively/categorically (specify what the variables measure and what the categories are if you have a categorical hypothesis)\n",
    "    \n",
    "    -1. The DV of R's income in constant dollars will change postively if the IV of race changes categorically. Respondents income is measured in constant dollars with a range of 227$ to 151,050.7$. Race measures the race of respondent as either white, black, or other.\n",
    "    \n",
    "    -2. The DV of Highest year of school completed will change negatively if the IV; Respondents sex changes categorically. Respondents education is measured on highest year of schooling completed and ranges from 0 to 20 years of schooling completed. Sex measures sex of respondent as either male or female.\n",
    "    \n",
    "\n",
    "    B. State if you expect each hypothesized relationship will be linear or take one of the 5 non-linear forms (1. nominal, 2. sequential dummies, 3. splines, 4. quadratic, 5. logarithmic). You tell us at least two different non-linear forms that you think your hypothesized relationships will or will not take. (i.e., 2 non linar hypothesis forms that it wont take)\n",
    "    \n",
    "    - I expect my hypothesized relationships to not be linear and instead take the non linear form of nominal/categorical. \n",
    "    \n",
    "\n",
    "    C. State your explanation why (theory) you make the predictions in A. and B.\n",
    "    \n",
    "    - The theory behind my hypotheses focuses on the use of categorical variables of income, education, race, and sex. I hypothesize the relationship between variables will either experience an incremental or decremental change. For example, income by race - income increases as race of an individual categorically changes and education by sex - highest year of education decreased as sex of an individual categorically changes.\n",
    "\n",
    "    D. Tell us the source of your data and describe its sample. (i.e., national sample/survey on african americans only)\n",
    "    \n",
    "    - The source of this data is The General Social Survey, a personal interview survey that collects information on demographic characteristics of respondents and their parents. The variables within this specific data used for the problem set include male and female respondents ages 18-89 or older of black, white, and other race categories."
   ]
  },
  {
   "cell_type": "markdown",
   "metadata": {},
   "source": [
    "## 2. Conduct statistical tests for your hypothesized relationship: [3 pts]\n",
    "\n",
    "* Estimate at least 2 different types of non-linear models that test your hypotheses.\n",
    "\n",
    "* Use appropriate regression and graphical representations to represent each model.\n",
    "\n",
    "* Use esttab to compare between types of non-linear and linear models"
   ]
  },
  {
   "cell_type": "code",
   "execution_count": 27,
   "metadata": {},
   "outputs": [
    {
     "name": "stdout",
     "output_type": "stream",
     "text": [
      "\n",
      "\n",
      "\n",
      "      Source |       SS           df       MS      Number of obs   =     1,363\n",
      "-------------+----------------------------------   F(1, 1361)      =     23.30\n",
      "       Model |  1.9120e+10         1  1.9120e+10   Prob > F        =    0.0000\n",
      "    Residual |  1.1170e+12     1,361   820705801   R-squared       =    0.0168\n",
      "-------------+----------------------------------   Adj R-squared   =    0.0161\n",
      "       Total |  1.1361e+12     1,362   834141678   Root MSE        =     28648\n",
      "\n",
      "------------------------------------------------------------------------------\n",
      "    realrinc |      Coef.   Std. Err.      t    P>|t|     [95% Conf. Interval]\n",
      "-------------+----------------------------------------------------------------\n",
      "        race |  -5354.918   1109.426    -4.83   0.000    -7531.289   -3178.547\n",
      "       _cons |   32568.86   1750.679    18.60   0.000     29134.54    36003.19\n",
      "------------------------------------------------------------------------------\n",
      "(est1 stored)\n",
      "\n",
      "\n",
      "      Source |       SS           df       MS      Number of obs   =     2,345\n",
      "-------------+----------------------------------   F(1, 2343)      =      0.33\n",
      "       Model |  2.91123783         1  2.91123783   Prob > F        =    0.5663\n",
      "    Residual |  20733.3719     2,343  8.84907039   R-squared       =    0.0001\n",
      "-------------+----------------------------------   Adj R-squared   =   -0.0003\n",
      "       Total |  20736.2832     2,344  8.84653718   Root MSE        =    2.9747\n",
      "\n",
      "------------------------------------------------------------------------------\n",
      "        educ |      Coef.   Std. Err.      t    P>|t|     [95% Conf. Interval]\n",
      "-------------+----------------------------------------------------------------\n",
      "         sex |   .0708503   .1235241     0.57   0.566    -.1713776    .3130783\n",
      "       _cons |   13.62182   .2012889    67.67   0.000      13.2271    14.01655\n",
      "------------------------------------------------------------------------------\n",
      "(est2 stored)\n"
     ]
    }
   ],
   "source": [
    "est clear\n",
    "eststo: reg realrinc race\n",
    "eststo: reg educ sex"
   ]
  },
  {
   "cell_type": "code",
   "execution_count": 34,
   "metadata": {},
   "outputs": [
    {
     "data": {
      "text/html": [
       "\n",
       "<table border=\"0\" width=\"*\">\n",
       "<tr><td colspan=3><hr></td></tr>\n",
       "<tr><td>            </td><td>         (1)   </td><td>         (2)   </td></tr>\n",
       "<tr><td>            </td><td>     Model 1   </td><td>     Model 2   </td></tr>\n",
       "<tr><td>            </td><td>        b/se   </td><td>        b/se   </td></tr>\n",
       "<tr><td colspan=3><hr></td></tr>\n",
       "<tr><td>Race of respondent</td><td>   -5354.918***</td><td>               </td></tr>\n",
       "<tr><td>            </td><td>  (1109.426)   </td><td>               </td></tr>\n",
       "<tr><td>Respondents sex</td><td>               </td><td>       0.071   </td></tr>\n",
       "<tr><td>            </td><td>               </td><td>     (0.124)   </td></tr>\n",
       "<tr><td>_cons       </td><td>   32568.864***</td><td>      13.622***</td></tr>\n",
       "<tr><td>            </td><td>  (1750.679)   </td><td>     (0.201)   </td></tr>\n",
       "<tr><td colspan=3><hr></td></tr>\n",
       "<tr><td>R-Sqaured   </td><td>       0.017   </td><td>       0.000   </td></tr>\n",
       "<tr><td>N           </td><td>    1363.000   </td><td>    2345.000   </td></tr>\n",
       "<tr><td colspan=3><hr></td></tr>\n",
       "</table>\n",
       "\n"
      ],
      "text/plain": [
       "This front-end or document format cannot display HTML"
      ]
     },
     "metadata": {},
     "output_type": "display_data"
    }
   ],
   "source": [
    "%html\n",
    "esttab, stats(r2 N, labels(\"R-Sqaured\" \"N\")) cells(b(star fmt(3)) se(fmt(3) par)) /// \n",
    "  nobase mlabels (\"Model 1\" \"Model 2\" \"Model 3\") starlevels(* .05 ** .01 *** .001) ///\n",
    "  coeflabels (realrinc \"Respondent's income in constant $\" race \"Race of respondent\" educ \"Highest year of school completed\" sex \"Respondents sex\") html"
   ]
  },
  {
   "cell_type": "markdown",
   "metadata": {},
   "source": [
    "## 3. Interpret the results [1 pt]\n",
    "\n",
    "    A. Say whether the results support or contradict your hypothesis and why\n",
    "    \n",
    "    B. Say whether a linear or particular non-linear model best describes your data and why"
   ]
  },
  {
   "cell_type": "markdown",
   "metadata": {},
   "source": [
    "A. The results presented above supports my first hypothesis and contrdict my second\n",
    "hypothesis because as seen above, the regression coefficient in model 1 of -5354.918 indicates \n",
    "a negative relationship. A negative relationship indicates that the dependent variable of income \n",
    "in constant dollars (realrinc) increases as the independent variable (race) decreases, or in \n",
    "this case, changes categorically from white to black. The regression coefficient in model 2 of \n",
    "0.071 indicates a positive relationship. A positive relationship indicates that the dependent \n",
    "variable of Highest year of school completed increases as the independent variable (sex) \n",
    "increases, or in this case, changes categorically from female to male.\n",
    "\n",
    "B. I think a nominal non-linear model best describes my data because it is a model that allows a \n",
    "more accurate description of how the association between my variables varies by sex, race, income,\n",
    "and education. It better describes the relationship between independent and dependent categorical\n",
    "variables of interest."
   ]
  }
 ],
 "metadata": {
  "kernelspec": {
   "display_name": "Stata",
   "language": "stata",
   "name": "stata"
  },
  "language_info": {
   "codemirror_mode": "stata",
   "file_extension": ".do",
   "mimetype": "text/x-stata",
   "name": "stata",
   "version": "15.1"
  }
 },
 "nbformat": 4,
 "nbformat_minor": 4
}
