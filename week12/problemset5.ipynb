{
 "cells": [
  {
   "cell_type": "markdown",
   "metadata": {},
   "source": [
    "# Problem Set 5 \n",
    "\n",
    "[Carmen Salazar]\n",
    "\n",
    "[Using GSS2018 data] \n",
    "\n",
    "[4/17/2020]"
   ]
  },
  {
   "cell_type": "code",
   "execution_count": 1,
   "metadata": {},
   "outputs": [
    {
     "name": "stdout",
     "output_type": "stream",
     "text": [
      "\n",
      "/Users/karminsalazar/Desktop/Masters Thesis\n",
      "\n",
      "\n"
     ]
    }
   ],
   "source": [
    "cd \"/Users/karminsalazar/Desktop/Masters Thesis\"\n",
    "\n",
    "set more off\n",
    "\n",
    "capture log close\n",
    "\n",
    "*log using problemset5log20200417.log\n",
    "\n"
   ]
  },
  {
   "cell_type": "code",
   "execution_count": 2,
   "metadata": {},
   "outputs": [],
   "source": [
    "use age sex race educ RACDIF1 RACDIF2 RACDIF3 RACDIF4 liveblks using GSS2018.dta"
   ]
  },
  {
   "cell_type": "code",
   "execution_count": 3,
   "metadata": {},
   "outputs": [
    {
     "name": "stdout",
     "output_type": "stream",
     "text": [
      "\n",
      "---------------------------------------------------------------------------------------------------------------------------------------------------------------------------------------------------------------------------------------------------------------\n",
      "age                                                                                                                                                                                                                                           Age of respondent\n",
      "---------------------------------------------------------------------------------------------------------------------------------------------------------------------------------------------------------------------------------------------------------------\n",
      "\n",
      "                  type:  numeric (byte)\n",
      "                 label:  AGE, but 71 nonmissing values are not labeled\n",
      "\n",
      "                 range:  [18,89]                      units:  1\n",
      "         unique values:  72                       missing .:  0/2,348\n",
      "       unique mv codes:  1                       missing .*:  7/2,348\n",
      "\n",
      "              examples:  31    \n",
      "                         42    \n",
      "                         55    \n",
      "                         67    \n",
      "\n",
      "---------------------------------------------------------------------------------------------------------------------------------------------------------------------------------------------------------------------------------------------------------------\n",
      "educ                                                                                                                                                                                                                           Highest year of school completed\n",
      "---------------------------------------------------------------------------------------------------------------------------------------------------------------------------------------------------------------------------------------------------------------\n",
      "\n",
      "                  type:  numeric (byte)\n",
      "                 label:  LABK, but 21 nonmissing values are not labeled\n",
      "\n",
      "                 range:  [0,20]                       units:  1\n",
      "         unique values:  21                       missing .:  0/2,348\n",
      "       unique mv codes:  1                       missing .*:  3/2,348\n",
      "\n",
      "              examples:  12    \n",
      "                         12    \n",
      "                         14    \n",
      "                         16    \n",
      "\n",
      "---------------------------------------------------------------------------------------------------------------------------------------------------------------------------------------------------------------------------------------------------------------\n",
      "sex                                                                                                                                                                                                                                             Respondents sex\n",
      "---------------------------------------------------------------------------------------------------------------------------------------------------------------------------------------------------------------------------------------------------------------\n",
      "\n",
      "                  type:  numeric (byte)\n",
      "                 label:  SEX\n",
      "\n",
      "                 range:  [1,2]                        units:  1\n",
      "         unique values:  2                        missing .:  0/2,348\n",
      "\n",
      "            tabulation:  Freq.   Numeric  Label\n",
      "                         1,052         1  male\n",
      "                         1,296         2  female\n",
      "\n",
      "---------------------------------------------------------------------------------------------------------------------------------------------------------------------------------------------------------------------------------------------------------------\n",
      "race                                                                                                                                                                                                                                         Race of respondent\n",
      "---------------------------------------------------------------------------------------------------------------------------------------------------------------------------------------------------------------------------------------------------------------\n",
      "\n",
      "                  type:  numeric (byte)\n",
      "                 label:  RACE\n",
      "\n",
      "                 range:  [1,3]                        units:  1\n",
      "         unique values:  3                        missing .:  0/2,348\n",
      "\n",
      "            tabulation:  Freq.   Numeric  Label\n",
      "                         1,693         1  white\n",
      "                           385         2  black\n",
      "                           270         3  other\n",
      "\n",
      "---------------------------------------------------------------------------------------------------------------------------------------------------------------------------------------------------------------------------------------------------------------\n",
      "RACDIF1                                                                                                                                                                                                                       Differences due to discrimination\n",
      "---------------------------------------------------------------------------------------------------------------------------------------------------------------------------------------------------------------------------------------------------------------\n",
      "\n",
      "                  type:  numeric (byte)\n",
      "                 label:  LABB\n",
      "\n",
      "                 range:  [1,2]                        units:  1\n",
      "         unique values:  2                        missing .:  0/2,348\n",
      "       unique mv codes:  3                       missing .*:  851/2,348\n",
      "\n",
      "            tabulation:  Freq.   Numeric  Label\n",
      "                           713         1  yes\n",
      "                           784         2  no\n",
      "                            54        .d  DK\n",
      "                           789        .i  IAP\n",
      "                             8        .n  NA\n",
      "\n",
      "---------------------------------------------------------------------------------------------------------------------------------------------------------------------------------------------------------------------------------------------------------------\n",
      "RACDIF2                                                                                                                                                                                                             Differences due to in-born learning ability\n",
      "---------------------------------------------------------------------------------------------------------------------------------------------------------------------------------------------------------------------------------------------------------------\n",
      "\n",
      "                  type:  numeric (byte)\n",
      "                 label:  LABB\n",
      "\n",
      "                 range:  [1,2]                        units:  1\n",
      "         unique values:  2                        missing .:  0/2,348\n",
      "       unique mv codes:  3                       missing .*:  817/2,348\n",
      "\n",
      "            tabulation:  Freq.   Numeric  Label\n",
      "                           129         1  yes\n",
      "                         1,402         2  no\n",
      "                            24        .d  DK\n",
      "                           789        .i  IAP\n",
      "                             4        .n  NA\n",
      "\n",
      "---------------------------------------------------------------------------------------------------------------------------------------------------------------------------------------------------------------------------------------------------------------\n",
      "RACDIF3                                                                                                                                                                                                                    Differences due to lack of education\n",
      "---------------------------------------------------------------------------------------------------------------------------------------------------------------------------------------------------------------------------------------------------------------\n",
      "\n",
      "                  type:  numeric (byte)\n",
      "                 label:  LABB\n",
      "\n",
      "                 range:  [1,2]                        units:  1\n",
      "         unique values:  2                        missing .:  0/2,348\n",
      "       unique mv codes:  3                       missing .*:  829/2,348\n",
      "\n",
      "            tabulation:  Freq.   Numeric  Label\n",
      "                           776         1  yes\n",
      "                           743         2  no\n",
      "                            35        .d  DK\n",
      "                           789        .i  IAP\n",
      "                             5        .n  NA\n",
      "\n",
      "---------------------------------------------------------------------------------------------------------------------------------------------------------------------------------------------------------------------------------------------------------------\n",
      "RACDIF4                                                                                                                                                                                                                         Differences due to lack of will\n",
      "---------------------------------------------------------------------------------------------------------------------------------------------------------------------------------------------------------------------------------------------------------------\n",
      "\n",
      "                  type:  numeric (byte)\n",
      "                 label:  LABB\n",
      "\n",
      "                 range:  [1,2]                        units:  1\n",
      "         unique values:  2                        missing .:  0/2,348\n",
      "       unique mv codes:  3                       missing .*:  855/2,348\n",
      "\n",
      "            tabulation:  Freq.   Numeric  Label\n",
      "                           566         1  yes\n",
      "                           927         2  no\n",
      "                            55        .d  DK\n",
      "                           789        .i  IAP\n",
      "                            11        .n  NA\n",
      "\n",
      "---------------------------------------------------------------------------------------------------------------------------------------------------------------------------------------------------------------------------------------------------------------\n",
      "liveblks                                                                                                                                                                                                                                Neighborhood half black\n",
      "---------------------------------------------------------------------------------------------------------------------------------------------------------------------------------------------------------------------------------------------------------------\n",
      "\n",
      "                  type:  numeric (byte)\n",
      "                 label:  LABES\n",
      "\n",
      "                 range:  [1,5]                        units:  1\n",
      "         unique values:  5                        missing .:  0/2,348\n",
      "       unique mv codes:  3                       missing .*:  804/2,348\n",
      "\n",
      "            tabulation:  Freq.   Numeric  Label\n",
      "                           233         1  STRONGLY FAVOR\n",
      "                           286         2  favor\n",
      "                           759         3  NEITHER FAVOR NOR OPPOSE\n",
      "                           200         4  oppose\n",
      "                            66         5  STRONGLY OPPOSE\n",
      "                             9        .d  DONT KNOW\n",
      "                           789        .i  IAP\n",
      "                             6        .n  NA\n"
     ]
    }
   ],
   "source": [
    "codebook\n"
   ]
  },
  {
   "cell_type": "markdown",
   "metadata": {},
   "source": [
    "### 1. Develop hypotheses involving a muli-item scale as either a dependent variable (DV) or independent variable (IV) [1 pt]\n",
    "\n",
    "Do the following when you write your hypothesis:\n",
    "\n",
    "    A. Write a couple sentences about the theoretical reasons (prior knowledge / research) for why you think that multiple dependent or independent variables of interest are correlated with eachother in one or more groupings\n",
    "    \n",
    "Based on research and literature, racist and segregating systems continue to shape residential landscapes.The myth of innate racial differences between black and white bodies continues to persist to this day, despite contrary evidence. As result, it is important to continue surveying individuals on their perceptions of these disparities to better understand why certain groups of people continue to experience racial prejudice.\n",
    "\n",
    "The following are my independent variables of interest: RACDIF1 (Differences due to discrimination) RACDIF2 (Differences due to in-born learning ability) RACDIF3 (Differences due to lack of education) RACDIF4 (Differences due to lack of will). I believe these multiple independent variables of interest are correlated with each other in one or more groupings because they focus on the respondednts perceptions of racial disparities between African-Americans and whites by having worse jobs, income, and housing coditions. Overall, when grouped into smaller groups, these perceptions of disparities can be as result of either social factors such as - differences due to discrimination & differences due to lack of education, or individual factors such as - differences due to in-born learning ability & differences due to lack of will. \n",
    "\n",
    "\n",
    "    B. Tell us a 1-word variable name that you will assign to each multi-item scale that you think could well represent your potentially correlated variables. The 1-word variable names should reflect your theory in response to prompt A above.\n",
    "    \n",
    "Perceptions\n",
    "\n",
    "    \n",
    "    C. State the predicted direction of association between your dependent variable DV (multi-item scales or otherwise) and independent variables (IVs) (multi-item scales or otherwise) in your proposed model. You can predict no relationship if you do not expect a relationship.\n",
    "    \n",
    "\n",
    "I believe there appears to be a relationship between both my dependent and independent variables. I predict a positive direction of association between my dependent variable (liveblks: living in a neighborhood where half of your neighbors are black) and independent variables (RACDIF1  RACDIF2  RACDIF3  RACDIF4) in my model. This means that whether a respondent is in favor of being in contact with African-American groups of people, depends on whether they perceive racial disparities as a result of structural factors. \n",
    "\n"
   ]
  },
  {
   "cell_type": "markdown",
   "metadata": {},
   "source": [
    "### 2. Estimate a correlation matrix [1 pt]\n",
    "\n",
    "    A. The matrix should include at least 4 independent or dependent variables (but not both) that you want to include in your multi-item scales \n",
    "    B. Make a list in this markdown cell that categorizes each potential correlation as strong or weak\n",
    "    C. Standardize the 4 variables so that they are all positively correlated"
   ]
  },
  {
   "cell_type": "code",
   "execution_count": 4,
   "metadata": {},
   "outputs": [
    {
     "name": "stdout",
     "output_type": "stream",
     "text": [
      "\n",
      "             |  RACDIF1  RACDIF2  RACDIF3  RACDIF4\n",
      "-------------+------------------------------------\n",
      "     RACDIF1 |   1.0000 \n",
      "             |\n",
      "             |\n",
      "     RACDIF2 |   0.0883   1.0000 \n",
      "             |   0.0007\n",
      "             |\n",
      "     RACDIF3 |   0.3599   0.0994   1.0000 \n",
      "             |   0.0000   0.0001\n",
      "             |\n",
      "     RACDIF4 |  -0.2153   0.2694  -0.1843   1.0000 \n",
      "             |   0.0000   0.0000   0.0000\n",
      "             |\n"
     ]
    }
   ],
   "source": [
    "pwcorr RACDIF1 RACDIF2 RACDIF3 RACDIF4, sig"
   ]
  },
  {
   "cell_type": "markdown",
   "metadata": {},
   "source": [
    "### Categorization of each potential correlation as strong or weak\n",
    "\n",
    "Perceptions:\n",
    "\n",
    "1. Differences due to discrimination / Differences due to in-born learning ability [weak]\n",
    "2. Differences due to discrimination / Differences due to lack of education [strong]\n",
    "3. Differences due to discrimination / Differences due to lack of will [weak]\n",
    "4. Differences due to in-born learning ability / Differences due to lack of education [weak]\n",
    "5. Differences due to in-born learning ability / Differences due to lack of will [weak]\n",
    "6. Differences due to lack of education / Differences due to lack of will [weak]"
   ]
  },
  {
   "cell_type": "code",
   "execution_count": 5,
   "metadata": {},
   "outputs": [
    {
     "name": "stdout",
     "output_type": "stream",
     "text": [
      "\n",
      "(1635 differences between RACDIF1 and noRACDIF1)\n",
      "(2219 differences between RACDIF2 and noRACDIF2)\n",
      "(1572 differences between RACDIF3 and noRACDIF3)\n",
      "(1782 differences between RACDIF4 and noRACDIF4)\n"
     ]
    }
   ],
   "source": [
    "foreach var in RACDIF1 RACDIF2 RACDIF3 RACDIF4 {\n",
    "    recode `var' (2=0) (.d=.) (.i=.) (.n=.), gen(no`var')\n",
    "}"
   ]
  },
  {
   "cell_type": "code",
   "execution_count": 6,
   "metadata": {},
   "outputs": [],
   "source": [
    "rename noRACDIF1 RACDIF1_2\n",
    "rename noRACDIF2 RACDIF2_2\n",
    "rename noRACDIF3 RACDIF3_2\n",
    "rename noRACDIF4 RACDIF4_2"
   ]
  },
  {
   "cell_type": "markdown",
   "metadata": {},
   "source": [
    "### 3. Estimate factor loadings [1 pt]\n",
    "\n",
    "    A. Estimate factor loadings for the variables you propose including in your multi-item scale(s)\n",
    "    B. Rotate and plot the factor loadings\n",
    "    C. Do the factor loadings support your hypothesis that multiple items should be grouped into a scale?\n",
    "    D. Do the factor loadings suggest any proposed items should not be included in your scale? Or that an additional scale is in order?"
   ]
  },
  {
   "cell_type": "code",
   "execution_count": 7,
   "metadata": {},
   "outputs": [
    {
     "name": "stdout",
     "output_type": "stream",
     "text": [
      "\n",
      "(obs=1,424)\n",
      "\n",
      "Factor analysis/correlation                      Number of obs    =      1,424\n",
      "    Method: principal factors                    Retained factors =          2\n",
      "    Rotation: (unrotated)                        Number of params =          6\n",
      "\n",
      "    --------------------------------------------------------------------------\n",
      "         Factor  |   Eigenvalue   Difference        Proportion   Cumulative\n",
      "    -------------+------------------------------------------------------------\n",
      "        Factor1  |      0.66730      0.30572            1.1665       1.1665\n",
      "        Factor2  |      0.36158      0.55861            0.6321       1.7986\n",
      "        Factor3  |     -0.19703      0.06279           -0.3444       1.4542\n",
      "        Factor4  |     -0.25982            .           -0.4542       1.0000\n",
      "    --------------------------------------------------------------------------\n",
      "    LR test: independent vs. saturated:  chi2(6)  =  444.92 Prob>chi2 = 0.0000\n",
      "\n",
      "Factor loadings (pattern matrix) and unique variances\n",
      "\n",
      "    -------------------------------------------------\n",
      "        Variable |  Factor1   Factor2 |   Uniqueness \n",
      "    -------------+--------------------+--------------\n",
      "       RACDIF1_2 |   0.5092    0.1347 |      0.7225  \n",
      "       RACDIF2_2 |  -0.0226    0.4634 |      0.7847  \n",
      "       RACDIF3_2 |   0.4909    0.1517 |      0.7360  \n",
      "       RACDIF4_2 |  -0.4080    0.3250 |      0.7279  \n",
      "    -------------------------------------------------\n"
     ]
    },
    {
     "data": {
      "application/pdf": "[encoded data removed]",
      "image/svg+xml": [
       "<?xml version=\"1.0\" encoding=\"UTF-8\" standalone=\"no\"?>\n",
       "<!-- This is a Stata 16.0 generated SVG file (http://www.stata.com) -->\n",
       "\n",
       "<svg version=\"1.1\" width=\"600px\" height=\"436px\" viewBox=\"0 0 3960 2880\" xmlns=\"http://www.w3.org/2000/svg\" xmlns:xlink=\"http://www.w3.org/1999/xlink\">\n",
       "\t<desc>Stata Graph - Graph</desc>\n",
       "\t<rect x=\"0\" y=\"0\" width=\"3960\" height=\"2880\" style=\"fill:#EAF2F3;stroke:none\"/>\n",
       "\t<rect x=\"0.00\" y=\"0.00\" width=\"3959.88\" height=\"2880.00\" style=\"fill:#EAF2F3\"/>\n",
       "\t<rect x=\"2.88\" y=\"2.88\" width=\"3954.12\" height=\"2874.24\" style=\"fill:none;stroke:#EAF2F3;stroke-width:5.76\"/>\n",
       "\t<rect x=\"63.36\" y=\"237.98\" width=\"3833.16\" height=\"2578.66\" style=\"fill:#EAF2F3\"/>\n",
       "\t<rect x=\"66.24\" y=\"240.86\" width=\"3827.40\" height=\"2572.90\" style=\"fill:none;stroke:#EAF2F3;stroke-width:5.76\"/>\n",
       "\t<rect x=\"454.16\" y=\"338.71\" width=\"3341.50\" height=\"2087.11\" style=\"fill:#FFFFFF\"/>\n",
       "\t<rect x=\"457.04\" y=\"341.59\" width=\"3335.74\" height=\"2081.35\" style=\"fill:none;stroke:#FFFFFF;stroke-width:5.76\"/>\n",
       "\t<line x1=\"454.16\" y1=\"2362.46\" x2=\"3795.66\" y2=\"2362.46\" style=\"stroke:#EAF2F3;stroke-width:8.64\"/>\n",
       "\t<line x1=\"454.16\" y1=\"1872.40\" x2=\"3795.66\" y2=\"1872.40\" style=\"stroke:#EAF2F3;stroke-width:8.64\"/>\n",
       "\t<line x1=\"454.16\" y1=\"1382.33\" x2=\"3795.66\" y2=\"1382.33\" style=\"stroke:#EAF2F3;stroke-width:8.64\"/>\n",
       "\t<line x1=\"454.16\" y1=\"892.14\" x2=\"3795.66\" y2=\"892.14\" style=\"stroke:#EAF2F3;stroke-width:8.64\"/>\n",
       "\t<line x1=\"454.16\" y1=\"402.08\" x2=\"3795.66\" y2=\"402.08\" style=\"stroke:#EAF2F3;stroke-width:8.64\"/>\n",
       "\t<circle cx=\"3442.85\" cy=\"2192.42\" r=\"26.35\" style=\"fill:#1A476F\"/>\n",
       "\t<circle cx=\"3442.85\" cy=\"2192.42\" r=\"22.03\" style=\"fill:none;stroke:#1A476F;stroke-width:8.64\"/>\n",
       "\t<text x=\"3421.81\" y=\"2156.04\" style=\"font-family:'Helvetica';font-size:79.94px;fill:#1A476f\" text-anchor=\"end\">RACDIF1_2</text>\n",
       "\t<circle cx=\"1746.86\" cy=\"581.27\" r=\"26.35\" style=\"fill:#1A476F\"/>\n",
       "\t<circle cx=\"1746.86\" cy=\"581.27\" r=\"22.03\" style=\"fill:none;stroke:#1A476F;stroke-width:8.64\"/>\n",
       "\t<text x=\"1746.86\" y=\"679.12\" style=\"font-family:'Helvetica';font-size:79.94px;fill:#1A476f\" text-anchor=\"middle\">RACDIF2_2</text>\n",
       "\t<circle cx=\"3384.44\" cy=\"2109.01\" r=\"26.35\" style=\"fill:#1A476F\"/>\n",
       "\t<circle cx=\"3384.44\" cy=\"2109.01\" r=\"22.03\" style=\"fill:none;stroke:#1A476F;stroke-width:8.64\"/>\n",
       "\t<text x=\"3363.40\" y=\"2072.63\" style=\"font-family:'Helvetica';font-size:79.94px;fill:#1A476f\" text-anchor=\"end\">RACDIF3_2</text>\n",
       "\t<circle cx=\"517.52\" cy=\"1259.57\" r=\"26.35\" style=\"fill:#1A476F\"/>\n",
       "\t<circle cx=\"517.52\" cy=\"1259.57\" r=\"22.03\" style=\"fill:none;stroke:#1A476F;stroke-width:8.64\"/>\n",
       "\t<text x=\"559.47\" y=\"1287.58\" style=\"font-family:'Helvetica';font-size:79.94px;fill:#1A476f\">RACDIF4_2</text>\n",
       "\t<line x1=\"454.16\" y1=\"2425.82\" x2=\"454.16\" y2=\"338.71\" style=\"stroke:#000000;stroke-width:5.76\"/>\n",
       "\t<line x1=\"454.16\" y1=\"2362.46\" x2=\"414.19\" y2=\"2362.46\" style=\"stroke:#000000;stroke-width:5.76\"/>\n",
       "\t<text x=\"364.08\" y=\"2362.46\" style=\"font-family:'Helvetica';font-size:99.99px;fill:#000000\" transform=\"rotate(-90 364.08,2362.46)\" text-anchor=\"middle\">.1</text>\n",
       "\t<line x1=\"454.16\" y1=\"1872.40\" x2=\"414.19\" y2=\"1872.40\" style=\"stroke:#000000;stroke-width:5.76\"/>\n",
       "\t<text x=\"364.08\" y=\"1872.40\" style=\"font-family:'Helvetica';font-size:99.99px;fill:#000000\" transform=\"rotate(-90 364.08,1872.40)\" text-anchor=\"middle\">.2</text>\n",
       "\t<line x1=\"454.16\" y1=\"1382.33\" x2=\"414.19\" y2=\"1382.33\" style=\"stroke:#000000;stroke-width:5.76\"/>\n",
       "\t<text x=\"364.08\" y=\"1382.33\" style=\"font-family:'Helvetica';font-size:99.99px;fill:#000000\" transform=\"rotate(-90 364.08,1382.33)\" text-anchor=\"middle\">.3</text>\n",
       "\t<line x1=\"454.16\" y1=\"892.14\" x2=\"414.19\" y2=\"892.14\" style=\"stroke:#000000;stroke-width:5.76\"/>\n",
       "\t<text x=\"364.08\" y=\"892.14\" style=\"font-family:'Helvetica';font-size:99.99px;fill:#000000\" transform=\"rotate(-90 364.08,892.14)\" text-anchor=\"middle\">.4</text>\n",
       "\t<line x1=\"454.16\" y1=\"402.08\" x2=\"414.19\" y2=\"402.08\" style=\"stroke:#000000;stroke-width:5.76\"/>\n",
       "\t<text x=\"364.08\" y=\"402.08\" style=\"font-family:'Helvetica';font-size:99.99px;fill:#000000\" transform=\"rotate(-90 364.08,402.08)\" text-anchor=\"middle\">.5</text>\n",
       "\t<text x=\"254.07\" y=\"1382.33\" style=\"font-family:'Helvetica';font-size:99.99px;fill:#000000\" transform=\"rotate(-90 254.07,1382.33)\" text-anchor=\"middle\">Factor 2</text>\n",
       "\t<line x1=\"454.16\" y1=\"2425.82\" x2=\"3795.66\" y2=\"2425.82\" style=\"stroke:#000000;stroke-width:5.76\"/>\n",
       "\t<line x1=\"543.14\" y1=\"2425.82\" x2=\"543.14\" y2=\"2465.80\" style=\"stroke:#000000;stroke-width:5.76\"/>\n",
       "\t<text x=\"543.14\" y=\"2555.78\" style=\"font-family:'Helvetica';font-size:99.99px;fill:#000000\" text-anchor=\"middle\">-.4</text>\n",
       "\t<line x1=\"1180.95\" y1=\"2425.82\" x2=\"1180.95\" y2=\"2465.80\" style=\"stroke:#000000;stroke-width:5.76\"/>\n",
       "\t<text x=\"1180.95\" y=\"2555.78\" style=\"font-family:'Helvetica';font-size:99.99px;fill:#000000\" text-anchor=\"middle\">-.2</text>\n",
       "\t<line x1=\"1818.75\" y1=\"2425.82\" x2=\"1818.75\" y2=\"2465.80\" style=\"stroke:#000000;stroke-width:5.76\"/>\n",
       "\t<text x=\"1818.75\" y=\"2555.78\" style=\"font-family:'Helvetica';font-size:99.99px;fill:#000000\" text-anchor=\"middle\">0</text>\n",
       "\t<line x1=\"2456.68\" y1=\"2425.82\" x2=\"2456.68\" y2=\"2465.80\" style=\"stroke:#000000;stroke-width:5.76\"/>\n",
       "\t<text x=\"2456.68\" y=\"2555.78\" style=\"font-family:'Helvetica';font-size:99.99px;fill:#000000\" text-anchor=\"middle\">.2</text>\n",
       "\t<line x1=\"3094.49\" y1=\"2425.82\" x2=\"3094.49\" y2=\"2465.80\" style=\"stroke:#000000;stroke-width:5.76\"/>\n",
       "\t<text x=\"3094.49\" y=\"2555.78\" style=\"font-family:'Helvetica';font-size:99.99px;fill:#000000\" text-anchor=\"middle\">.4</text>\n",
       "\t<line x1=\"3732.42\" y1=\"2425.82\" x2=\"3732.42\" y2=\"2465.80\" style=\"stroke:#000000;stroke-width:5.76\"/>\n",
       "\t<text x=\"3732.42\" y=\"2555.78\" style=\"font-family:'Helvetica';font-size:99.99px;fill:#000000\" text-anchor=\"middle\">.6</text>\n",
       "\t<text x=\"2124.91\" y=\"2665.79\" style=\"font-family:'Helvetica';font-size:99.99px;fill:#000000\" text-anchor=\"middle\">Factor 1</text>\n",
       "\t<text x=\"1980.00\" y=\"178.60\" style=\"font-family:'Helvetica';font-size:139.96px;fill:#1E2D53\" text-anchor=\"middle\">Factor loadings</text>\n",
       "</svg>\n"
      ],
      "text/html": [
       "                <iframe frameborder=\"0\" scrolling=\"no\" height=\"436\" width=\"600\"                srcdoc=\"<html><body>&lt;?xml version=&quot;1.0&quot; encoding=&quot;UTF-8&quot; standalone=&quot;no&quot;?&gt;\n",
       "&lt;!-- This is a Stata 16.0 generated SVG file (http://www.stata.com) --&gt;\n",
       "\n",
       "&lt;svg version=&quot;1.1&quot; width=&quot;600px&quot; height=&quot;436px&quot; viewBox=&quot;0 0 3960 2880&quot; xmlns=&quot;http://www.w3.org/2000/svg&quot; xmlns:xlink=&quot;http://www.w3.org/1999/xlink&quot;&gt;\n",
       "\t&lt;desc&gt;Stata Graph - Graph&lt;/desc&gt;\n",
       "\t&lt;rect x=&quot;0&quot; y=&quot;0&quot; width=&quot;3960&quot; height=&quot;2880&quot; style=&quot;fill:#EAF2F3;stroke:none&quot;/&gt;\n",
       "\t&lt;rect x=&quot;0.00&quot; y=&quot;0.00&quot; width=&quot;3959.88&quot; height=&quot;2880.00&quot; style=&quot;fill:#EAF2F3&quot;/&gt;\n",
       "\t&lt;rect x=&quot;2.88&quot; y=&quot;2.88&quot; width=&quot;3954.12&quot; height=&quot;2874.24&quot; style=&quot;fill:none;stroke:#EAF2F3;stroke-width:5.76&quot;/&gt;\n",
       "\t&lt;rect x=&quot;63.36&quot; y=&quot;237.98&quot; width=&quot;3833.16&quot; height=&quot;2578.66&quot; style=&quot;fill:#EAF2F3&quot;/&gt;\n",
       "\t&lt;rect x=&quot;66.24&quot; y=&quot;240.86&quot; width=&quot;3827.40&quot; height=&quot;2572.90&quot; style=&quot;fill:none;stroke:#EAF2F3;stroke-width:5.76&quot;/&gt;\n",
       "\t&lt;rect x=&quot;454.16&quot; y=&quot;338.71&quot; width=&quot;3341.50&quot; height=&quot;2087.11&quot; style=&quot;fill:#FFFFFF&quot;/&gt;\n",
       "\t&lt;rect x=&quot;457.04&quot; y=&quot;341.59&quot; width=&quot;3335.74&quot; height=&quot;2081.35&quot; style=&quot;fill:none;stroke:#FFFFFF;stroke-width:5.76&quot;/&gt;\n",
       "\t&lt;line x1=&quot;454.16&quot; y1=&quot;2362.46&quot; x2=&quot;3795.66&quot; y2=&quot;2362.46&quot; style=&quot;stroke:#EAF2F3;stroke-width:8.64&quot;/&gt;\n",
       "\t&lt;line x1=&quot;454.16&quot; y1=&quot;1872.40&quot; x2=&quot;3795.66&quot; y2=&quot;1872.40&quot; style=&quot;stroke:#EAF2F3;stroke-width:8.64&quot;/&gt;\n",
       "\t&lt;line x1=&quot;454.16&quot; y1=&quot;1382.33&quot; x2=&quot;3795.66&quot; y2=&quot;1382.33&quot; style=&quot;stroke:#EAF2F3;stroke-width:8.64&quot;/&gt;\n",
       "\t&lt;line x1=&quot;454.16&quot; y1=&quot;892.14&quot; x2=&quot;3795.66&quot; y2=&quot;892.14&quot; style=&quot;stroke:#EAF2F3;stroke-width:8.64&quot;/&gt;\n",
       "\t&lt;line x1=&quot;454.16&quot; y1=&quot;402.08&quot; x2=&quot;3795.66&quot; y2=&quot;402.08&quot; style=&quot;stroke:#EAF2F3;stroke-width:8.64&quot;/&gt;\n",
       "\t&lt;circle cx=&quot;3442.85&quot; cy=&quot;2192.42&quot; r=&quot;26.35&quot; style=&quot;fill:#1A476F&quot;/&gt;\n",
       "\t&lt;circle cx=&quot;3442.85&quot; cy=&quot;2192.42&quot; r=&quot;22.03&quot; style=&quot;fill:none;stroke:#1A476F;stroke-width:8.64&quot;/&gt;\n",
       "\t&lt;text x=&quot;3421.81&quot; y=&quot;2156.04&quot; style=&quot;font-family:&#x27;Helvetica&#x27;;font-size:79.94px;fill:#1A476f&quot; text-anchor=&quot;end&quot;&gt;RACDIF1_2&lt;/text&gt;\n",
       "\t&lt;circle cx=&quot;1746.86&quot; cy=&quot;581.27&quot; r=&quot;26.35&quot; style=&quot;fill:#1A476F&quot;/&gt;\n",
       "\t&lt;circle cx=&quot;1746.86&quot; cy=&quot;581.27&quot; r=&quot;22.03&quot; style=&quot;fill:none;stroke:#1A476F;stroke-width:8.64&quot;/&gt;\n",
       "\t&lt;text x=&quot;1746.86&quot; y=&quot;679.12&quot; style=&quot;font-family:&#x27;Helvetica&#x27;;font-size:79.94px;fill:#1A476f&quot; text-anchor=&quot;middle&quot;&gt;RACDIF2_2&lt;/text&gt;\n",
       "\t&lt;circle cx=&quot;3384.44&quot; cy=&quot;2109.01&quot; r=&quot;26.35&quot; style=&quot;fill:#1A476F&quot;/&gt;\n",
       "\t&lt;circle cx=&quot;3384.44&quot; cy=&quot;2109.01&quot; r=&quot;22.03&quot; style=&quot;fill:none;stroke:#1A476F;stroke-width:8.64&quot;/&gt;\n",
       "\t&lt;text x=&quot;3363.40&quot; y=&quot;2072.63&quot; style=&quot;font-family:&#x27;Helvetica&#x27;;font-size:79.94px;fill:#1A476f&quot; text-anchor=&quot;end&quot;&gt;RACDIF3_2&lt;/text&gt;\n",
       "\t&lt;circle cx=&quot;517.52&quot; cy=&quot;1259.57&quot; r=&quot;26.35&quot; style=&quot;fill:#1A476F&quot;/&gt;\n",
       "\t&lt;circle cx=&quot;517.52&quot; cy=&quot;1259.57&quot; r=&quot;22.03&quot; style=&quot;fill:none;stroke:#1A476F;stroke-width:8.64&quot;/&gt;\n",
       "\t&lt;text x=&quot;559.47&quot; y=&quot;1287.58&quot; style=&quot;font-family:&#x27;Helvetica&#x27;;font-size:79.94px;fill:#1A476f&quot;&gt;RACDIF4_2&lt;/text&gt;\n",
       "\t&lt;line x1=&quot;454.16&quot; y1=&quot;2425.82&quot; x2=&quot;454.16&quot; y2=&quot;338.71&quot; style=&quot;stroke:#000000;stroke-width:5.76&quot;/&gt;\n",
       "\t&lt;line x1=&quot;454.16&quot; y1=&quot;2362.46&quot; x2=&quot;414.19&quot; y2=&quot;2362.46&quot; style=&quot;stroke:#000000;stroke-width:5.76&quot;/&gt;\n",
       "\t&lt;text x=&quot;364.08&quot; y=&quot;2362.46&quot; style=&quot;font-family:&#x27;Helvetica&#x27;;font-size:99.99px;fill:#000000&quot; transform=&quot;rotate(-90 364.08,2362.46)&quot; text-anchor=&quot;middle&quot;&gt;.1&lt;/text&gt;\n",
       "\t&lt;line x1=&quot;454.16&quot; y1=&quot;1872.40&quot; x2=&quot;414.19&quot; y2=&quot;1872.40&quot; style=&quot;stroke:#000000;stroke-width:5.76&quot;/&gt;\n",
       "\t&lt;text x=&quot;364.08&quot; y=&quot;1872.40&quot; style=&quot;font-family:&#x27;Helvetica&#x27;;font-size:99.99px;fill:#000000&quot; transform=&quot;rotate(-90 364.08,1872.40)&quot; text-anchor=&quot;middle&quot;&gt;.2&lt;/text&gt;\n",
       "\t&lt;line x1=&quot;454.16&quot; y1=&quot;1382.33&quot; x2=&quot;414.19&quot; y2=&quot;1382.33&quot; style=&quot;stroke:#000000;stroke-width:5.76&quot;/&gt;\n",
       "\t&lt;text x=&quot;364.08&quot; y=&quot;1382.33&quot; style=&quot;font-family:&#x27;Helvetica&#x27;;font-size:99.99px;fill:#000000&quot; transform=&quot;rotate(-90 364.08,1382.33)&quot; text-anchor=&quot;middle&quot;&gt;.3&lt;/text&gt;\n",
       "\t&lt;line x1=&quot;454.16&quot; y1=&quot;892.14&quot; x2=&quot;414.19&quot; y2=&quot;892.14&quot; style=&quot;stroke:#000000;stroke-width:5.76&quot;/&gt;\n",
       "\t&lt;text x=&quot;364.08&quot; y=&quot;892.14&quot; style=&quot;font-family:&#x27;Helvetica&#x27;;font-size:99.99px;fill:#000000&quot; transform=&quot;rotate(-90 364.08,892.14)&quot; text-anchor=&quot;middle&quot;&gt;.4&lt;/text&gt;\n",
       "\t&lt;line x1=&quot;454.16&quot; y1=&quot;402.08&quot; x2=&quot;414.19&quot; y2=&quot;402.08&quot; style=&quot;stroke:#000000;stroke-width:5.76&quot;/&gt;\n",
       "\t&lt;text x=&quot;364.08&quot; y=&quot;402.08&quot; style=&quot;font-family:&#x27;Helvetica&#x27;;font-size:99.99px;fill:#000000&quot; transform=&quot;rotate(-90 364.08,402.08)&quot; text-anchor=&quot;middle&quot;&gt;.5&lt;/text&gt;\n",
       "\t&lt;text x=&quot;254.07&quot; y=&quot;1382.33&quot; style=&quot;font-family:&#x27;Helvetica&#x27;;font-size:99.99px;fill:#000000&quot; transform=&quot;rotate(-90 254.07,1382.33)&quot; text-anchor=&quot;middle&quot;&gt;Factor 2&lt;/text&gt;\n",
       "\t&lt;line x1=&quot;454.16&quot; y1=&quot;2425.82&quot; x2=&quot;3795.66&quot; y2=&quot;2425.82&quot; style=&quot;stroke:#000000;stroke-width:5.76&quot;/&gt;\n",
       "\t&lt;line x1=&quot;543.14&quot; y1=&quot;2425.82&quot; x2=&quot;543.14&quot; y2=&quot;2465.80&quot; style=&quot;stroke:#000000;stroke-width:5.76&quot;/&gt;\n",
       "\t&lt;text x=&quot;543.14&quot; y=&quot;2555.78&quot; style=&quot;font-family:&#x27;Helvetica&#x27;;font-size:99.99px;fill:#000000&quot; text-anchor=&quot;middle&quot;&gt;-.4&lt;/text&gt;\n",
       "\t&lt;line x1=&quot;1180.95&quot; y1=&quot;2425.82&quot; x2=&quot;1180.95&quot; y2=&quot;2465.80&quot; style=&quot;stroke:#000000;stroke-width:5.76&quot;/&gt;\n",
       "\t&lt;text x=&quot;1180.95&quot; y=&quot;2555.78&quot; style=&quot;font-family:&#x27;Helvetica&#x27;;font-size:99.99px;fill:#000000&quot; text-anchor=&quot;middle&quot;&gt;-.2&lt;/text&gt;\n",
       "\t&lt;line x1=&quot;1818.75&quot; y1=&quot;2425.82&quot; x2=&quot;1818.75&quot; y2=&quot;2465.80&quot; style=&quot;stroke:#000000;stroke-width:5.76&quot;/&gt;\n",
       "\t&lt;text x=&quot;1818.75&quot; y=&quot;2555.78&quot; style=&quot;font-family:&#x27;Helvetica&#x27;;font-size:99.99px;fill:#000000&quot; text-anchor=&quot;middle&quot;&gt;0&lt;/text&gt;\n",
       "\t&lt;line x1=&quot;2456.68&quot; y1=&quot;2425.82&quot; x2=&quot;2456.68&quot; y2=&quot;2465.80&quot; style=&quot;stroke:#000000;stroke-width:5.76&quot;/&gt;\n",
       "\t&lt;text x=&quot;2456.68&quot; y=&quot;2555.78&quot; style=&quot;font-family:&#x27;Helvetica&#x27;;font-size:99.99px;fill:#000000&quot; text-anchor=&quot;middle&quot;&gt;.2&lt;/text&gt;\n",
       "\t&lt;line x1=&quot;3094.49&quot; y1=&quot;2425.82&quot; x2=&quot;3094.49&quot; y2=&quot;2465.80&quot; style=&quot;stroke:#000000;stroke-width:5.76&quot;/&gt;\n",
       "\t&lt;text x=&quot;3094.49&quot; y=&quot;2555.78&quot; style=&quot;font-family:&#x27;Helvetica&#x27;;font-size:99.99px;fill:#000000&quot; text-anchor=&quot;middle&quot;&gt;.4&lt;/text&gt;\n",
       "\t&lt;line x1=&quot;3732.42&quot; y1=&quot;2425.82&quot; x2=&quot;3732.42&quot; y2=&quot;2465.80&quot; style=&quot;stroke:#000000;stroke-width:5.76&quot;/&gt;\n",
       "\t&lt;text x=&quot;3732.42&quot; y=&quot;2555.78&quot; style=&quot;font-family:&#x27;Helvetica&#x27;;font-size:99.99px;fill:#000000&quot; text-anchor=&quot;middle&quot;&gt;.6&lt;/text&gt;\n",
       "\t&lt;text x=&quot;2124.91&quot; y=&quot;2665.79&quot; style=&quot;font-family:&#x27;Helvetica&#x27;;font-size:99.99px;fill:#000000&quot; text-anchor=&quot;middle&quot;&gt;Factor 1&lt;/text&gt;\n",
       "\t&lt;text x=&quot;1980.00&quot; y=&quot;178.60&quot; style=&quot;font-family:&#x27;Helvetica&#x27;;font-size:139.96px;fill:#1E2D53&quot; text-anchor=&quot;middle&quot;&gt;Factor loadings&lt;/text&gt;\n",
       "&lt;/svg&gt;\n",
       "</body></html>\"></iframe>\n"
      ],
      "text/plain": [
       "This front-end cannot display the desired image type."
      ]
     },
     "metadata": {
      "image/svg+xml": {
       "height": 436,
       "width": 600
      },
      "text/html": {
       "height": 436,
       "width": 600
      }
     },
     "output_type": "display_data"
    },
    {
     "name": "stdout",
     "output_type": "stream",
     "text": [
      "\n",
      "\n",
      "\n"
     ]
    }
   ],
   "source": [
    "factor RACDIF1_2 RACDIF2_2 RACDIF3_2 RACDIF4_2\n",
    "loadingplot, norotated"
   ]
  },
  {
   "cell_type": "code",
   "execution_count": 9,
   "metadata": {},
   "outputs": [
    {
     "name": "stdout",
     "output_type": "stream",
     "text": [
      "\n",
      "\n",
      "\n",
      "Factor analysis/correlation                      Number of obs    =      1,424\n",
      "    Method: principal factors                    Retained factors =          2\n",
      "    Rotation: orthogonal varimax (Kaiser off)    Number of params =          6\n",
      "\n",
      "    --------------------------------------------------------------------------\n",
      "         Factor  |     Variance   Difference        Proportion   Cumulative\n",
      "    -------------+------------------------------------------------------------\n",
      "        Factor1  |      0.63202      0.23516            1.1049       1.1049\n",
      "        Factor2  |      0.39686            .            0.6938       1.7986\n",
      "    --------------------------------------------------------------------------\n",
      "    LR test: independent vs. saturated:  chi2(6)  =  444.92 Prob>chi2 = 0.0000\n",
      "\n",
      "Rotated factor loadings (pattern matrix) and unique variances\n",
      "\n",
      "    -------------------------------------------------\n",
      "        Variable |  Factor1   Factor2 |   Uniqueness \n",
      "    -------------+--------------------+--------------\n",
      "       RACDIF1_2 |   0.5247   -0.0463 |      0.7225  \n",
      "       RACDIF2_2 |   0.1362    0.4435 |      0.7847  \n",
      "       RACDIF3_2 |   0.5133   -0.0241 |      0.7360  \n",
      "       RACDIF4_2 |  -0.2733    0.4443 |      0.7279  \n",
      "    -------------------------------------------------\n",
      "\n",
      "Factor rotation matrix\n",
      "\n",
      "    --------------------------------\n",
      "                 | Factor1  Factor2 \n",
      "    -------------+------------------\n",
      "         Factor1 |  0.9405  -0.3397 \n",
      "         Factor2 |  0.3397   0.9405 \n",
      "    --------------------------------\n"
     ]
    },
    {
     "data": {
      "application/pdf": "[encoded data removed]",
      "image/svg+xml": [
       "<?xml version=\"1.0\" encoding=\"UTF-8\" standalone=\"no\"?>\n",
       "<!-- This is a Stata 16.0 generated SVG file (http://www.stata.com) -->\n",
       "\n",
       "<svg version=\"1.1\" width=\"600px\" height=\"436px\" viewBox=\"0 0 3960 2880\" xmlns=\"http://www.w3.org/2000/svg\" xmlns:xlink=\"http://www.w3.org/1999/xlink\">\n",
       "\t<desc>Stata Graph - Graph</desc>\n",
       "\t<rect x=\"0\" y=\"0\" width=\"3960\" height=\"2880\" style=\"fill:#EAF2F3;stroke:none\"/>\n",
       "\t<rect x=\"0.00\" y=\"0.00\" width=\"3959.88\" height=\"2880.00\" style=\"fill:#EAF2F3\"/>\n",
       "\t<rect x=\"2.88\" y=\"2.88\" width=\"3954.12\" height=\"2874.24\" style=\"fill:none;stroke:#EAF2F3;stroke-width:5.76\"/>\n",
       "\t<rect x=\"63.36\" y=\"237.98\" width=\"3833.16\" height=\"2384.12\" style=\"fill:#EAF2F3\"/>\n",
       "\t<rect x=\"66.24\" y=\"240.86\" width=\"3827.40\" height=\"2378.36\" style=\"fill:none;stroke:#EAF2F3;stroke-width:5.76\"/>\n",
       "\t<rect x=\"454.16\" y=\"338.71\" width=\"3341.50\" height=\"1892.57\" style=\"fill:#FFFFFF\"/>\n",
       "\t<rect x=\"457.04\" y=\"341.59\" width=\"3335.74\" height=\"1886.81\" style=\"fill:none;stroke:#FFFFFF;stroke-width:5.76\"/>\n",
       "\t<line x1=\"454.16\" y1=\"2167.92\" x2=\"3795.66\" y2=\"2167.92\" style=\"stroke:#EAF2F3;stroke-width:8.64\"/>\n",
       "\t<line x1=\"454.16\" y1=\"1843.56\" x2=\"3795.66\" y2=\"1843.56\" style=\"stroke:#EAF2F3;stroke-width:8.64\"/>\n",
       "\t<line x1=\"454.16\" y1=\"1519.08\" x2=\"3795.66\" y2=\"1519.08\" style=\"stroke:#EAF2F3;stroke-width:8.64\"/>\n",
       "\t<line x1=\"454.16\" y1=\"1194.72\" x2=\"3795.66\" y2=\"1194.72\" style=\"stroke:#EAF2F3;stroke-width:8.64\"/>\n",
       "\t<line x1=\"454.16\" y1=\"870.24\" x2=\"3795.66\" y2=\"870.24\" style=\"stroke:#EAF2F3;stroke-width:8.64\"/>\n",
       "\t<line x1=\"454.16\" y1=\"545.88\" x2=\"3795.66\" y2=\"545.88\" style=\"stroke:#EAF2F3;stroke-width:8.64\"/>\n",
       "\t<circle cx=\"3455.22\" cy=\"1993.67\" r=\"26.35\" style=\"fill:#1A476F\"/>\n",
       "\t<circle cx=\"3455.22\" cy=\"1993.67\" r=\"22.03\" style=\"fill:none;stroke:#1A476F;stroke-width:8.64\"/>\n",
       "\t<text x=\"3434.19\" y=\"1957.29\" style=\"font-family:'Helvetica';font-size:79.94px;fill:#1A476f\" text-anchor=\"end\">RACDIF1_2</text>\n",
       "\t<circle cx=\"2025.17\" cy=\"404.68\" r=\"26.35\" style=\"fill:#1A476F\"/>\n",
       "\t<circle cx=\"2025.17\" cy=\"404.68\" r=\"22.03\" style=\"fill:none;stroke:#1A476F;stroke-width:8.64\"/>\n",
       "\t<text x=\"2025.17\" y=\"502.53\" style=\"font-family:'Helvetica';font-size:79.94px;fill:#1A476f\" text-anchor=\"middle\">RACDIF2_2</text>\n",
       "\t<circle cx=\"3413.03\" cy=\"1921.65\" r=\"26.35\" style=\"fill:#1A476F\"/>\n",
       "\t<circle cx=\"3413.03\" cy=\"1921.65\" r=\"22.03\" style=\"fill:none;stroke:#1A476F;stroke-width:8.64\"/>\n",
       "\t<text x=\"3391.99\" y=\"1885.27\" style=\"font-family:'Helvetica';font-size:79.94px;fill:#1A476f\" text-anchor=\"end\">RACDIF3_2</text>\n",
       "\t<circle cx=\"517.52\" cy=\"402.08\" r=\"26.35\" style=\"fill:#1A476F\"/>\n",
       "\t<circle cx=\"517.52\" cy=\"402.08\" r=\"22.03\" style=\"fill:none;stroke:#1A476F;stroke-width:8.64\"/>\n",
       "\t<text x=\"538.56\" y=\"494.36\" style=\"font-family:'Helvetica';font-size:79.94px;fill:#1A476f\">RACDIF4_2</text>\n",
       "\t<line x1=\"454.16\" y1=\"2231.28\" x2=\"454.16\" y2=\"338.71\" style=\"stroke:#000000;stroke-width:5.76\"/>\n",
       "\t<line x1=\"454.16\" y1=\"2167.92\" x2=\"414.19\" y2=\"2167.92\" style=\"stroke:#000000;stroke-width:5.76\"/>\n",
       "\t<text x=\"364.08\" y=\"2167.92\" style=\"font-family:'Helvetica';font-size:99.99px;fill:#000000\" transform=\"rotate(-90 364.08,2167.92)\" text-anchor=\"middle\">-.1</text>\n",
       "\t<line x1=\"454.16\" y1=\"1843.56\" x2=\"414.19\" y2=\"1843.56\" style=\"stroke:#000000;stroke-width:5.76\"/>\n",
       "\t<text x=\"364.08\" y=\"1843.56\" style=\"font-family:'Helvetica';font-size:99.99px;fill:#000000\" transform=\"rotate(-90 364.08,1843.56)\" text-anchor=\"middle\">0</text>\n",
       "\t<line x1=\"454.16\" y1=\"1519.08\" x2=\"414.19\" y2=\"1519.08\" style=\"stroke:#000000;stroke-width:5.76\"/>\n",
       "\t<text x=\"364.08\" y=\"1519.08\" style=\"font-family:'Helvetica';font-size:99.99px;fill:#000000\" transform=\"rotate(-90 364.08,1519.08)\" text-anchor=\"middle\">.1</text>\n",
       "\t<line x1=\"454.16\" y1=\"1194.72\" x2=\"414.19\" y2=\"1194.72\" style=\"stroke:#000000;stroke-width:5.76\"/>\n",
       "\t<text x=\"364.08\" y=\"1194.72\" style=\"font-family:'Helvetica';font-size:99.99px;fill:#000000\" transform=\"rotate(-90 364.08,1194.72)\" text-anchor=\"middle\">.2</text>\n",
       "\t<line x1=\"454.16\" y1=\"870.24\" x2=\"414.19\" y2=\"870.24\" style=\"stroke:#000000;stroke-width:5.76\"/>\n",
       "\t<text x=\"364.08\" y=\"870.24\" style=\"font-family:'Helvetica';font-size:99.99px;fill:#000000\" transform=\"rotate(-90 364.08,870.24)\" text-anchor=\"middle\">.3</text>\n",
       "\t<line x1=\"454.16\" y1=\"545.88\" x2=\"414.19\" y2=\"545.88\" style=\"stroke:#000000;stroke-width:5.76\"/>\n",
       "\t<text x=\"364.08\" y=\"545.88\" style=\"font-family:'Helvetica';font-size:99.99px;fill:#000000\" transform=\"rotate(-90 364.08,545.88)\" text-anchor=\"middle\">.4</text>\n",
       "\t<text x=\"254.07\" y=\"1285.06\" style=\"font-family:'Helvetica';font-size:99.99px;fill:#000000\" transform=\"rotate(-90 254.07,1285.06)\" text-anchor=\"middle\">Factor 2</text>\n",
       "\t<line x1=\"454.16\" y1=\"2231.28\" x2=\"3795.66\" y2=\"2231.28\" style=\"stroke:#000000;stroke-width:5.76\"/>\n",
       "\t<line x1=\"787.54\" y1=\"2231.28\" x2=\"787.54\" y2=\"2271.38\" style=\"stroke:#000000;stroke-width:5.76\"/>\n",
       "\t<text x=\"787.54\" y=\"2361.24\" style=\"font-family:'Helvetica';font-size:99.99px;fill:#000000\" text-anchor=\"middle\">-.2</text>\n",
       "\t<line x1=\"1523.73\" y1=\"2231.28\" x2=\"1523.73\" y2=\"2271.38\" style=\"stroke:#000000;stroke-width:5.76\"/>\n",
       "\t<text x=\"1523.73\" y=\"2361.24\" style=\"font-family:'Helvetica';font-size:99.99px;fill:#000000\" text-anchor=\"middle\">0</text>\n",
       "\t<line x1=\"2259.92\" y1=\"2231.28\" x2=\"2259.92\" y2=\"2271.38\" style=\"stroke:#000000;stroke-width:5.76\"/>\n",
       "\t<text x=\"2259.92\" y=\"2361.24\" style=\"font-family:'Helvetica';font-size:99.99px;fill:#000000\" text-anchor=\"middle\">.2</text>\n",
       "\t<line x1=\"2996.11\" y1=\"2231.28\" x2=\"2996.11\" y2=\"2271.38\" style=\"stroke:#000000;stroke-width:5.76\"/>\n",
       "\t<text x=\"2996.11\" y=\"2361.24\" style=\"font-family:'Helvetica';font-size:99.99px;fill:#000000\" text-anchor=\"middle\">.4</text>\n",
       "\t<line x1=\"3732.42\" y1=\"2231.28\" x2=\"3732.42\" y2=\"2271.38\" style=\"stroke:#000000;stroke-width:5.76\"/>\n",
       "\t<text x=\"3732.42\" y=\"2361.24\" style=\"font-family:'Helvetica';font-size:99.99px;fill:#000000\" text-anchor=\"middle\">.6</text>\n",
       "\t<text x=\"2124.91\" y=\"2471.25\" style=\"font-family:'Helvetica';font-size:99.99px;fill:#000000\" text-anchor=\"middle\">Factor 1</text>\n",
       "\t<text x=\"80.69\" y=\"2695.32\" style=\"font-family:'Helvetica';font-size:79.94px;fill:#000000\">Rotation: orthogonal varimax</text>\n",
       "\t<text x=\"80.69\" y=\"2775.27\" style=\"font-family:'Helvetica';font-size:79.94px;fill:#000000\">Method: principal factors</text>\n",
       "\t<text x=\"1980.00\" y=\"178.60\" style=\"font-family:'Helvetica';font-size:139.96px;fill:#1E2D53\" text-anchor=\"middle\">Factor loadings</text>\n",
       "</svg>\n"
      ],
      "text/html": [
       "                <iframe frameborder=\"0\" scrolling=\"no\" height=\"436\" width=\"600\"                srcdoc=\"<html><body>&lt;?xml version=&quot;1.0&quot; encoding=&quot;UTF-8&quot; standalone=&quot;no&quot;?&gt;\n",
       "&lt;!-- This is a Stata 16.0 generated SVG file (http://www.stata.com) --&gt;\n",
       "\n",
       "&lt;svg version=&quot;1.1&quot; width=&quot;600px&quot; height=&quot;436px&quot; viewBox=&quot;0 0 3960 2880&quot; xmlns=&quot;http://www.w3.org/2000/svg&quot; xmlns:xlink=&quot;http://www.w3.org/1999/xlink&quot;&gt;\n",
       "\t&lt;desc&gt;Stata Graph - Graph&lt;/desc&gt;\n",
       "\t&lt;rect x=&quot;0&quot; y=&quot;0&quot; width=&quot;3960&quot; height=&quot;2880&quot; style=&quot;fill:#EAF2F3;stroke:none&quot;/&gt;\n",
       "\t&lt;rect x=&quot;0.00&quot; y=&quot;0.00&quot; width=&quot;3959.88&quot; height=&quot;2880.00&quot; style=&quot;fill:#EAF2F3&quot;/&gt;\n",
       "\t&lt;rect x=&quot;2.88&quot; y=&quot;2.88&quot; width=&quot;3954.12&quot; height=&quot;2874.24&quot; style=&quot;fill:none;stroke:#EAF2F3;stroke-width:5.76&quot;/&gt;\n",
       "\t&lt;rect x=&quot;63.36&quot; y=&quot;237.98&quot; width=&quot;3833.16&quot; height=&quot;2384.12&quot; style=&quot;fill:#EAF2F3&quot;/&gt;\n",
       "\t&lt;rect x=&quot;66.24&quot; y=&quot;240.86&quot; width=&quot;3827.40&quot; height=&quot;2378.36&quot; style=&quot;fill:none;stroke:#EAF2F3;stroke-width:5.76&quot;/&gt;\n",
       "\t&lt;rect x=&quot;454.16&quot; y=&quot;338.71&quot; width=&quot;3341.50&quot; height=&quot;1892.57&quot; style=&quot;fill:#FFFFFF&quot;/&gt;\n",
       "\t&lt;rect x=&quot;457.04&quot; y=&quot;341.59&quot; width=&quot;3335.74&quot; height=&quot;1886.81&quot; style=&quot;fill:none;stroke:#FFFFFF;stroke-width:5.76&quot;/&gt;\n",
       "\t&lt;line x1=&quot;454.16&quot; y1=&quot;2167.92&quot; x2=&quot;3795.66&quot; y2=&quot;2167.92&quot; style=&quot;stroke:#EAF2F3;stroke-width:8.64&quot;/&gt;\n",
       "\t&lt;line x1=&quot;454.16&quot; y1=&quot;1843.56&quot; x2=&quot;3795.66&quot; y2=&quot;1843.56&quot; style=&quot;stroke:#EAF2F3;stroke-width:8.64&quot;/&gt;\n",
       "\t&lt;line x1=&quot;454.16&quot; y1=&quot;1519.08&quot; x2=&quot;3795.66&quot; y2=&quot;1519.08&quot; style=&quot;stroke:#EAF2F3;stroke-width:8.64&quot;/&gt;\n",
       "\t&lt;line x1=&quot;454.16&quot; y1=&quot;1194.72&quot; x2=&quot;3795.66&quot; y2=&quot;1194.72&quot; style=&quot;stroke:#EAF2F3;stroke-width:8.64&quot;/&gt;\n",
       "\t&lt;line x1=&quot;454.16&quot; y1=&quot;870.24&quot; x2=&quot;3795.66&quot; y2=&quot;870.24&quot; style=&quot;stroke:#EAF2F3;stroke-width:8.64&quot;/&gt;\n",
       "\t&lt;line x1=&quot;454.16&quot; y1=&quot;545.88&quot; x2=&quot;3795.66&quot; y2=&quot;545.88&quot; style=&quot;stroke:#EAF2F3;stroke-width:8.64&quot;/&gt;\n",
       "\t&lt;circle cx=&quot;3455.22&quot; cy=&quot;1993.67&quot; r=&quot;26.35&quot; style=&quot;fill:#1A476F&quot;/&gt;\n",
       "\t&lt;circle cx=&quot;3455.22&quot; cy=&quot;1993.67&quot; r=&quot;22.03&quot; style=&quot;fill:none;stroke:#1A476F;stroke-width:8.64&quot;/&gt;\n",
       "\t&lt;text x=&quot;3434.19&quot; y=&quot;1957.29&quot; style=&quot;font-family:&#x27;Helvetica&#x27;;font-size:79.94px;fill:#1A476f&quot; text-anchor=&quot;end&quot;&gt;RACDIF1_2&lt;/text&gt;\n",
       "\t&lt;circle cx=&quot;2025.17&quot; cy=&quot;404.68&quot; r=&quot;26.35&quot; style=&quot;fill:#1A476F&quot;/&gt;\n",
       "\t&lt;circle cx=&quot;2025.17&quot; cy=&quot;404.68&quot; r=&quot;22.03&quot; style=&quot;fill:none;stroke:#1A476F;stroke-width:8.64&quot;/&gt;\n",
       "\t&lt;text x=&quot;2025.17&quot; y=&quot;502.53&quot; style=&quot;font-family:&#x27;Helvetica&#x27;;font-size:79.94px;fill:#1A476f&quot; text-anchor=&quot;middle&quot;&gt;RACDIF2_2&lt;/text&gt;\n",
       "\t&lt;circle cx=&quot;3413.03&quot; cy=&quot;1921.65&quot; r=&quot;26.35&quot; style=&quot;fill:#1A476F&quot;/&gt;\n",
       "\t&lt;circle cx=&quot;3413.03&quot; cy=&quot;1921.65&quot; r=&quot;22.03&quot; style=&quot;fill:none;stroke:#1A476F;stroke-width:8.64&quot;/&gt;\n",
       "\t&lt;text x=&quot;3391.99&quot; y=&quot;1885.27&quot; style=&quot;font-family:&#x27;Helvetica&#x27;;font-size:79.94px;fill:#1A476f&quot; text-anchor=&quot;end&quot;&gt;RACDIF3_2&lt;/text&gt;\n",
       "\t&lt;circle cx=&quot;517.52&quot; cy=&quot;402.08&quot; r=&quot;26.35&quot; style=&quot;fill:#1A476F&quot;/&gt;\n",
       "\t&lt;circle cx=&quot;517.52&quot; cy=&quot;402.08&quot; r=&quot;22.03&quot; style=&quot;fill:none;stroke:#1A476F;stroke-width:8.64&quot;/&gt;\n",
       "\t&lt;text x=&quot;538.56&quot; y=&quot;494.36&quot; style=&quot;font-family:&#x27;Helvetica&#x27;;font-size:79.94px;fill:#1A476f&quot;&gt;RACDIF4_2&lt;/text&gt;\n",
       "\t&lt;line x1=&quot;454.16&quot; y1=&quot;2231.28&quot; x2=&quot;454.16&quot; y2=&quot;338.71&quot; style=&quot;stroke:#000000;stroke-width:5.76&quot;/&gt;\n",
       "\t&lt;line x1=&quot;454.16&quot; y1=&quot;2167.92&quot; x2=&quot;414.19&quot; y2=&quot;2167.92&quot; style=&quot;stroke:#000000;stroke-width:5.76&quot;/&gt;\n",
       "\t&lt;text x=&quot;364.08&quot; y=&quot;2167.92&quot; style=&quot;font-family:&#x27;Helvetica&#x27;;font-size:99.99px;fill:#000000&quot; transform=&quot;rotate(-90 364.08,2167.92)&quot; text-anchor=&quot;middle&quot;&gt;-.1&lt;/text&gt;\n",
       "\t&lt;line x1=&quot;454.16&quot; y1=&quot;1843.56&quot; x2=&quot;414.19&quot; y2=&quot;1843.56&quot; style=&quot;stroke:#000000;stroke-width:5.76&quot;/&gt;\n",
       "\t&lt;text x=&quot;364.08&quot; y=&quot;1843.56&quot; style=&quot;font-family:&#x27;Helvetica&#x27;;font-size:99.99px;fill:#000000&quot; transform=&quot;rotate(-90 364.08,1843.56)&quot; text-anchor=&quot;middle&quot;&gt;0&lt;/text&gt;\n",
       "\t&lt;line x1=&quot;454.16&quot; y1=&quot;1519.08&quot; x2=&quot;414.19&quot; y2=&quot;1519.08&quot; style=&quot;stroke:#000000;stroke-width:5.76&quot;/&gt;\n",
       "\t&lt;text x=&quot;364.08&quot; y=&quot;1519.08&quot; style=&quot;font-family:&#x27;Helvetica&#x27;;font-size:99.99px;fill:#000000&quot; transform=&quot;rotate(-90 364.08,1519.08)&quot; text-anchor=&quot;middle&quot;&gt;.1&lt;/text&gt;\n",
       "\t&lt;line x1=&quot;454.16&quot; y1=&quot;1194.72&quot; x2=&quot;414.19&quot; y2=&quot;1194.72&quot; style=&quot;stroke:#000000;stroke-width:5.76&quot;/&gt;\n",
       "\t&lt;text x=&quot;364.08&quot; y=&quot;1194.72&quot; style=&quot;font-family:&#x27;Helvetica&#x27;;font-size:99.99px;fill:#000000&quot; transform=&quot;rotate(-90 364.08,1194.72)&quot; text-anchor=&quot;middle&quot;&gt;.2&lt;/text&gt;\n",
       "\t&lt;line x1=&quot;454.16&quot; y1=&quot;870.24&quot; x2=&quot;414.19&quot; y2=&quot;870.24&quot; style=&quot;stroke:#000000;stroke-width:5.76&quot;/&gt;\n",
       "\t&lt;text x=&quot;364.08&quot; y=&quot;870.24&quot; style=&quot;font-family:&#x27;Helvetica&#x27;;font-size:99.99px;fill:#000000&quot; transform=&quot;rotate(-90 364.08,870.24)&quot; text-anchor=&quot;middle&quot;&gt;.3&lt;/text&gt;\n",
       "\t&lt;line x1=&quot;454.16&quot; y1=&quot;545.88&quot; x2=&quot;414.19&quot; y2=&quot;545.88&quot; style=&quot;stroke:#000000;stroke-width:5.76&quot;/&gt;\n",
       "\t&lt;text x=&quot;364.08&quot; y=&quot;545.88&quot; style=&quot;font-family:&#x27;Helvetica&#x27;;font-size:99.99px;fill:#000000&quot; transform=&quot;rotate(-90 364.08,545.88)&quot; text-anchor=&quot;middle&quot;&gt;.4&lt;/text&gt;\n",
       "\t&lt;text x=&quot;254.07&quot; y=&quot;1285.06&quot; style=&quot;font-family:&#x27;Helvetica&#x27;;font-size:99.99px;fill:#000000&quot; transform=&quot;rotate(-90 254.07,1285.06)&quot; text-anchor=&quot;middle&quot;&gt;Factor 2&lt;/text&gt;\n",
       "\t&lt;line x1=&quot;454.16&quot; y1=&quot;2231.28&quot; x2=&quot;3795.66&quot; y2=&quot;2231.28&quot; style=&quot;stroke:#000000;stroke-width:5.76&quot;/&gt;\n",
       "\t&lt;line x1=&quot;787.54&quot; y1=&quot;2231.28&quot; x2=&quot;787.54&quot; y2=&quot;2271.38&quot; style=&quot;stroke:#000000;stroke-width:5.76&quot;/&gt;\n",
       "\t&lt;text x=&quot;787.54&quot; y=&quot;2361.24&quot; style=&quot;font-family:&#x27;Helvetica&#x27;;font-size:99.99px;fill:#000000&quot; text-anchor=&quot;middle&quot;&gt;-.2&lt;/text&gt;\n",
       "\t&lt;line x1=&quot;1523.73&quot; y1=&quot;2231.28&quot; x2=&quot;1523.73&quot; y2=&quot;2271.38&quot; style=&quot;stroke:#000000;stroke-width:5.76&quot;/&gt;\n",
       "\t&lt;text x=&quot;1523.73&quot; y=&quot;2361.24&quot; style=&quot;font-family:&#x27;Helvetica&#x27;;font-size:99.99px;fill:#000000&quot; text-anchor=&quot;middle&quot;&gt;0&lt;/text&gt;\n",
       "\t&lt;line x1=&quot;2259.92&quot; y1=&quot;2231.28&quot; x2=&quot;2259.92&quot; y2=&quot;2271.38&quot; style=&quot;stroke:#000000;stroke-width:5.76&quot;/&gt;\n",
       "\t&lt;text x=&quot;2259.92&quot; y=&quot;2361.24&quot; style=&quot;font-family:&#x27;Helvetica&#x27;;font-size:99.99px;fill:#000000&quot; text-anchor=&quot;middle&quot;&gt;.2&lt;/text&gt;\n",
       "\t&lt;line x1=&quot;2996.11&quot; y1=&quot;2231.28&quot; x2=&quot;2996.11&quot; y2=&quot;2271.38&quot; style=&quot;stroke:#000000;stroke-width:5.76&quot;/&gt;\n",
       "\t&lt;text x=&quot;2996.11&quot; y=&quot;2361.24&quot; style=&quot;font-family:&#x27;Helvetica&#x27;;font-size:99.99px;fill:#000000&quot; text-anchor=&quot;middle&quot;&gt;.4&lt;/text&gt;\n",
       "\t&lt;line x1=&quot;3732.42&quot; y1=&quot;2231.28&quot; x2=&quot;3732.42&quot; y2=&quot;2271.38&quot; style=&quot;stroke:#000000;stroke-width:5.76&quot;/&gt;\n",
       "\t&lt;text x=&quot;3732.42&quot; y=&quot;2361.24&quot; style=&quot;font-family:&#x27;Helvetica&#x27;;font-size:99.99px;fill:#000000&quot; text-anchor=&quot;middle&quot;&gt;.6&lt;/text&gt;\n",
       "\t&lt;text x=&quot;2124.91&quot; y=&quot;2471.25&quot; style=&quot;font-family:&#x27;Helvetica&#x27;;font-size:99.99px;fill:#000000&quot; text-anchor=&quot;middle&quot;&gt;Factor 1&lt;/text&gt;\n",
       "\t&lt;text x=&quot;80.69&quot; y=&quot;2695.32&quot; style=&quot;font-family:&#x27;Helvetica&#x27;;font-size:79.94px;fill:#000000&quot;&gt;Rotation: orthogonal varimax&lt;/text&gt;\n",
       "\t&lt;text x=&quot;80.69&quot; y=&quot;2775.27&quot; style=&quot;font-family:&#x27;Helvetica&#x27;;font-size:79.94px;fill:#000000&quot;&gt;Method: principal factors&lt;/text&gt;\n",
       "\t&lt;text x=&quot;1980.00&quot; y=&quot;178.60&quot; style=&quot;font-family:&#x27;Helvetica&#x27;;font-size:139.96px;fill:#1E2D53&quot; text-anchor=&quot;middle&quot;&gt;Factor loadings&lt;/text&gt;\n",
       "&lt;/svg&gt;\n",
       "</body></html>\"></iframe>\n"
      ],
      "text/plain": [
       "This front-end cannot display the desired image type."
      ]
     },
     "metadata": {
      "image/svg+xml": {
       "height": 436,
       "width": 600
      },
      "text/html": {
       "height": 436,
       "width": 600
      }
     },
     "output_type": "display_data"
    },
    {
     "name": "stdout",
     "output_type": "stream",
     "text": [
      "\n",
      "\n",
      "\n"
     ]
    }
   ],
   "source": [
    "quietly factor RACDIF1_2 RACDIF2_2 RACDIF3_2 RACDIF4_2\n",
    "rotate, varimax\n",
    "loadingplot\n"
   ]
  },
  {
   "cell_type": "markdown",
   "metadata": {},
   "source": [
    "The factor loadings support my hypothesis that multiple items should be grouped into a scale as result of\n",
    "how strongly each variable is correlated with other variables that are correlated with the unobserved factor(s). Based on the factor analysis, all of my variables are correlated and make sense to combine into a scale. My scale of social reasons includes the component variables that measure respondent's perceptions for racial differences as a result of social factors. My scale of individual reasons includes the component variables that measure respondent's perceptions for racial disparities as a result of individual factors.\n",
    "\n",
    "\n",
    "Based on the closeness of my factor loadings, I believe that the factor loadings do not necessarily suggest any proposed items to be included in my scale, or that an additional scale is in order. "
   ]
  },
  {
   "cell_type": "markdown",
   "metadata": {},
   "source": [
    "### 4. Calculate the scales and test them in a regression model [1 pt]\n",
    "\n",
    "    A. Generate new scale variables that average all the items in each scale.\n",
    "    B. Standardize each scale to be 0-1\n",
    "    C. Estimate separate models that regress your dependent variables on your independent variables 1) using the scale variables, and 2) using the separate component items of the scale variables\n",
    "    D. Output your models (at least 2 models) using esttab so we can easily compare results"
   ]
  },
  {
   "cell_type": "code",
   "execution_count": 10,
   "metadata": {},
   "outputs": [
    {
     "name": "stdout",
     "output_type": "stream",
     "text": [
      "\n",
      "(874 missing values generated)\n",
      "\n",
      "(868 missing values generated)\n"
     ]
    }
   ],
   "source": [
    "*calculate the mean of the two component variables that measure similarities:\n",
    "gen socialreasons=(RACDIF1_2+RACDIF3_2)/2\n",
    "gen individualreasons=(RACDIF2_2+RACDIF4_2)/2"
   ]
  },
  {
   "cell_type": "code",
   "execution_count": 23,
   "metadata": {},
   "outputs": [
    {
     "name": "stdout",
     "output_type": "stream",
     "text": [
      "\n",
      "(1,497 real changes made)\n",
      "(1,531 real changes made)\n",
      "(1,519 real changes made)\n",
      "(1,493 real changes made)\n"
     ]
    }
   ],
   "source": [
    "\n",
    "foreach var in RACDIF1_2 RACDIF2_2 RACDIF3_2 RACDIF4_2 {\n",
    "qui sum `var'\n",
    "replace `var' = (`var' - `r(min)') / (`r(max)'-`r(min)')\n",
    "\n",
    "}"
   ]
  },
  {
   "cell_type": "code",
   "execution_count": 24,
   "metadata": {},
   "outputs": [
    {
     "name": "stdout",
     "output_type": "stream",
     "text": [
      "\n",
      "    Variable |        Obs        Mean    Std. Dev.       Min        Max\n",
      "-------------+---------------------------------------------------------\n",
      "   RACDIF1_2 |      1,497    .4762859    .4996042          0          1\n",
      "   RACDIF2_2 |      1,531    .0842587    .2778661          0          1\n",
      "   RACDIF3_2 |      1,519    .5108624    .5000466          0          1\n",
      "   RACDIF4_2 |      1,493    .3791025    .4853262          0          1\n"
     ]
    }
   ],
   "source": [
    "sum RACDIF1_2 RACDIF2_2 RACDIF3_2 RACDIF4_2"
   ]
  },
  {
   "cell_type": "code",
   "execution_count": 34,
   "metadata": {},
   "outputs": [
    {
     "name": "stdout",
     "output_type": "stream",
     "text": [
      "\n",
      "\n",
      ". . esttab , stats(r2 N, labels(\"R-Sqaured\" \"N\")) cells(b(star fmt(2)) se(fmt(2) par)) stardetach  legend starlevels(^ .1 * .05 ** .01 *** .001) mlabels(\"Neighborhood half black\") collabels(none) keep(socialreasons individualreasons RACDIF1_2 RACDIF2_2 RACD\n",
      "> IF3_2 RACDIF4_2)\n",
      "\n",
      "----------------------------------------------\n",
      "                      (1)              (2)    \n",
      "             Neighborho~k             est2    \n",
      "----------------------------------------------\n",
      "socialreas~s        -3.52 ***                 \n",
      "                   (0.78)                     \n",
      "individual~s         7.26 ***                 \n",
      "                   (1.16)                     \n",
      "RACDIF1_2                            -0.25 ***\n",
      "                                    (0.06)    \n",
      "RACDIF2_2                             0.29 ** \n",
      "                                    (0.11)    \n",
      "RACDIF3_2                            -0.05    \n",
      "                                    (0.06)    \n",
      "RACDIF4_2                             0.30 ***\n",
      "                                    (0.06)    \n",
      "----------------------------------------------\n",
      "R-Sqaured            0.11             0.11    \n",
      "N                 1411.00          1411.00    \n",
      "----------------------------------------------\n",
      "^ p<.1, * p<.05, ** p<.01, *** p<.001\n"
     ]
    }
   ],
   "source": [
    "quietly {\n",
    "est clear\n",
    "eststo: regress liveblks socialreasons individualreasons age i.sex i.race educ, ro\n",
    "eststo: regress liveblks RACDIF1_2 RACDIF2_2 RACDIF3_2 RACDIF4_2 age i.sex i.race educ, ro\n",
    "}\n",
    "esttab ///\n",
    ", stats(r2 N, labels(\"R-Sqaured\" \"N\")) cells(b(star fmt(2)) se(fmt(2) par)) stardetach  ///\n",
    "legend starlevels(^ .1 * .05 ** .01 *** .001) ///\n",
    "mlabels(\"Neighborhood half black\") ///\n",
    "collabels(none) keep(socialreasons individualreasons RACDIF1_2 RACDIF2_2 RACDIF3_2 RACDIF4_2)"
   ]
  },
  {
   "cell_type": "markdown",
   "metadata": {},
   "source": [
    "### 5. Interpret your regression estimates [1 pt]\n",
    "\n",
    "    A. Which of your hypotheses were supported or rejected?\n",
    "    B. Were the coefficients using your multi-item scales in the same direction as the coefficients for their component variables?\n",
    "    C. Were the coefficients larger or more statistically significant when you used multi-item scales?"
   ]
  },
  {
   "cell_type": "markdown",
   "metadata": {},
   "source": [
    "A. Based on my regression results, it seems that my hypothesis was rejected because we can see that whether someone is comfortable residing in a neighborhood that is half black is negatively correlated with social factors and significantly correlated with perceptions of disparities as result of individual factors such as differences due to in-born learning ability and differences due to lack of will. \n",
    "\n",
    "B. The coefficients using my multi-item scales were in the same direction as the coefficients for their component variables. The multi-item scale coefficient of socialreasons was negative and so was the coefficients for its component variables. The same result was seen in the multi-scale coefficient of individualreasons, where its coefficient was positive along with the coefficients for its component variables.\n",
    "\n",
    "C. When using multi-item scales, the coefficients for socialreasons were much smaller (-3.52) than its component variables (-0.25 & -0.05). However, the coefficient for individualreasons was more significant (7.26) than its component variables (0.11 & 0.30)\n"
   ]
  },
  {
   "cell_type": "code",
   "execution_count": null,
   "metadata": {},
   "outputs": [],
   "source": []
  }
 ],
 "metadata": {
  "kernelspec": {
   "display_name": "Stata",
   "language": "stata",
   "name": "stata"
  },
  "language_info": {
   "codemirror_mode": "stata",
   "file_extension": ".do",
   "mimetype": "text/x-stata",
   "name": "stata",
   "version": "15.1"
  }
 },
 "nbformat": 4,
 "nbformat_minor": 4
}
